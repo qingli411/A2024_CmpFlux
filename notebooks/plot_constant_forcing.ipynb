{
 "cells": [
  {
   "cell_type": "code",
   "execution_count": null,
   "id": "78b4d19a-8922-4cb3-aa2a-357a08bcf2ba",
   "metadata": {},
   "outputs": [],
   "source": [
    "import os\n",
    "import sys\n",
    "import copy\n",
    "import numpy as np\n",
    "import pandas as pd\n",
    "import xarray as xr\n",
    "import matplotlib.pyplot as plt\n",
    "sys.path.append(os.path.join(os.path.pardir, 'gotmtool'))\n",
    "sys.path.append(os.path.join(os.path.pardir, 'lesview'))\n",
    "from gotmtool import *\n",
    "from lesview import *"
   ]
  },
  {
   "cell_type": "code",
   "execution_count": null,
   "id": "374b8af7-17b3-44a6-9013-7a75b58e7519",
   "metadata": {},
   "outputs": [],
   "source": [
    "# casename = 'R7_B 05WV00_ST00_ens01'\n",
    "# ncarles_file = 'his.mp.vis.000001.028801.nc'\n",
    "casename = 'R7_BF05WD10WV00_ST00_ens01'\n",
    "ncarles_file = 'his.mp.vis.000001.036001.nc'\n",
    "turbmethod = 'KPPLT-LF17'\n",
    "# turbmethod = 'KPP-CVMix'\n",
    "# turbmethod = 'GLS-C01A'\n",
    "\n",
    "shortname = casename[3:15]\n",
    "print(shortname)\n",
    "ncarles_dir  = os.path.join(os.path.pardir, 'data', 'ncarles', 'LF17_Profile_data', '{:s}'.format(casename))\n",
    "ncarles_pfl  = NCARLESDataProfile(filepath=os.path.join(ncarles_dir, ncarles_file))\n",
    "ncarles_ds   = ncarles_pfl.dataset\n",
    "\n",
    "gotm_dir   = os.path.join(os.path.pardir, 'gotm', 'run', 'constant_forcing')\n",
    "gotm_sim1  = Simulation(path=os.path.join(gotm_dir, shortname, turbmethod))\n",
    "gotm_sim2  = Simulation(path=os.path.join(gotm_dir, shortname, '{:s}_Relax'.format(turbmethod)))\n",
    "gotm_ds1   = gotm_sim1.load_data()\n",
    "gotm_ds2   = gotm_sim2.load_data()"
   ]
  },
  {
   "cell_type": "code",
   "execution_count": null,
   "id": "b717b3be-f2f3-444d-b6ff-060f601b3913",
   "metadata": {},
   "outputs": [],
   "source": [
    "ncarles_ds"
   ]
  },
  {
   "cell_type": "code",
   "execution_count": null,
   "id": "8691415b-8f4f-428e-a03d-0a3a9f1488ba",
   "metadata": {},
   "outputs": [],
   "source": [
    "gotm_ds1"
   ]
  },
  {
   "cell_type": "code",
   "execution_count": null,
   "id": "2f3d3ce4-b80e-4d81-a128-da0eb2f868b6",
   "metadata": {},
   "outputs": [],
   "source": [
    "gotm_ds2"
   ]
  },
  {
   "cell_type": "code",
   "execution_count": null,
   "id": "841bd444-5af5-4462-82d5-595f2acf44e6",
   "metadata": {},
   "outputs": [],
   "source": [
    "ustar = 0.012 # m/s\n",
    "Q0 = 5/1000/4200\n",
    "alpha = 2e-4\n",
    "g = 9.81\n",
    "B0 = Q0*g*alpha\n",
    "Tstar = Q0/ustar\n",
    "NNT0 = 0.01"
   ]
  },
  {
   "cell_type": "code",
   "execution_count": null,
   "id": "061731ad-ba7c-4e93-afaa-f515f4393c53",
   "metadata": {},
   "outputs": [],
   "source": [
    "# one inertial period (17 hours)\n",
    "startdate = '2000-01-01T10:00:00'\n",
    "enddate = '2000-01-02T03:00:00'\n",
    "tslice = slice(startdate, enddate)"
   ]
  },
  {
   "cell_type": "code",
   "execution_count": null,
   "id": "e7de1ac2-2b27-49cb-9c10-6ed51caa73a5",
   "metadata": {},
   "outputs": [],
   "source": [
    "def cmp_da(da0, da1, da2, var, units, levels, cmap):\n",
    "    fig1, axarr = plt.subplots(3, 1, sharex='col')\n",
    "    fig1.set_size_inches([9, 9])\n",
    "    \n",
    "    da0.plot(ax=axarr[0], levels=levels, cmap=cmap)\n",
    "    da1.plot(ax=axarr[1], levels=levels, cmap=cmap)\n",
    "    da2.plot(ax=axarr[2], levels=levels, cmap=cmap)\n",
    "    \n",
    "    depth = -100\n",
    "    for j in np.arange(3):\n",
    "        axarr[j].set_ylim([depth, 0])\n",
    "        axarr[j].set_xlabel('')\n",
    "        axarr[j].set_title('')\n",
    "        axarr[j].set_ylabel('depth (m)')\n",
    "\n",
    "    fig2 = plt.figure(figsize=[6,4])\n",
    "    da0.sel(time=tslice).mean(dim='time').plot(y=da0.dims[0], color='k', linestyle='-', label='LES')\n",
    "    da1.sel(time=tslice).mean(dim='time').plot(y=da1.dims[0], color='k', linestyle='--', label='GOTM')\n",
    "    da2.sel(time=tslice).mean(dim='time').plot(y=da2.dims[0], color='k', linestyle=':', label='GOTM Relax')\n",
    "    vmin = np.min(levels)\n",
    "    vmax = np.max(levels)\n",
    "    plt.ylim([depth, 0])\n",
    "    plt.xlim([vmin, vmax])\n",
    "    plt.xlabel(var+' ('+units+')')\n",
    "    plt.ylabel('Depth (m)')\n",
    "    plt.title('Time averaged')\n",
    "    plt.legend()\n",
    "    \n",
    "    \n",
    "def plot_mean_fields(var, units, levels, cmap, lesvar, gotmvar, lesshift=0, scale=1):\n",
    "    da0 = (ncarles_ds.data_vars[lesvar]+lesshift)*scale\n",
    "    da1 = gotm_ds1.data_vars[gotmvar].squeeze()*scale\n",
    "    da2 = gotm_ds2.data_vars[gotmvar].squeeze()*scale\n",
    "    for da in [da0, da1, da2]:\n",
    "        da.attrs['long_name'] = var\n",
    "        da.attrs['units'] = units\n",
    "    cmp_da(da0, da1, da2, var, units, levels, cmap)\n",
    "\n",
    "\n",
    "def get_flux(lam, num, gam):\n",
    "    tmp = xr.zeros_like(num)\n",
    "    nt = lam.shape[1]\n",
    "    for i in np.arange(nt):\n",
    "        tmp.data[1:-1,i] = (lam.data[:-1,i]-lam.data[1:,i])/(lam.z.data[:-1]-lam.z.data[1:])\n",
    "    flux = - num * tmp + gam\n",
    "    return flux\n",
    "    \n",
    "    \n",
    "def plot_turbulent_flux(var, units, levels, cmap, lesvar1, lesvar2, gotmvar1, gotmvar2, gotmvar3, scale=1):\n",
    "    da0 = (ncarles_ds.data_vars[lesvar1]+ncarles_ds.data_vars[lesvar2])*scale\n",
    "    da1 = get_flux(gotm_ds1.data_vars[gotmvar1].squeeze(),\n",
    "                   gotm_ds1.data_vars[gotmvar2].squeeze(),\n",
    "                   gotm_ds1.data_vars[gotmvar3].squeeze())*scale\n",
    "    da2 = get_flux(gotm_ds2.data_vars[gotmvar1].squeeze(),\n",
    "                   gotm_ds2.data_vars[gotmvar2].squeeze(),\n",
    "                   gotm_ds2.data_vars[gotmvar3].squeeze())*scale\n",
    "    for da in [da0, da1, da2]:\n",
    "        da.attrs['long_name'] = var\n",
    "        da.attrs['units'] = units\n",
    "    cmp_da(da0, da1, da2, var, units, levels, cmap)\n",
    "    \n",
    "# def plot_turbulent_flux(var, units, levels, cmap, lesvar1, lesvar2, gotmvar1, gotmvar2, gotmvar3):\n",
    "#     da0 = ncarles_ds.data_vars[lesvar1]+ncarles_ds.data_vars[lesvar2]\n",
    "#     da1 = xr.zeros_like(gotm_ds1.data_vars[gotmvar1].squeeze())\n",
    "#     da2 = xr.zeros_like(gotm_ds2.data_vars[gotmvar1].squeeze())\n",
    "#     da1.data = - gotm_ds1.data_vars[gotmvar1].squeeze().differentiate('z') * gotm_ds1.data_vars[gotmvar2].squeeze().interp(zi=gotm_ds1.z) + gotm_ds1.data_vars[gotmvar3].squeeze().interp(zi=gotm_ds1.z)\n",
    "#     da2.data = - gotm_ds2.data_vars[gotmvar1].squeeze().differentiate('z') * gotm_ds2.data_vars[gotmvar2].squeeze().interp(zi=gotm_ds2.z) + gotm_ds2.data_vars[gotmvar3].squeeze().interp(zi=gotm_ds2.z)\n",
    "#     for da in [da0, da1, da2]:\n",
    "#         da.attrs['long_name'] = var\n",
    "#         da.attrs['units'] = units\n",
    "#     cmp_da(da0, da1, da2, var, units, levels, cmap)"
   ]
  },
  {
   "cell_type": "code",
   "execution_count": null,
   "id": "e85b73b7-9001-41e0-a726-0f989b4149a8",
   "metadata": {},
   "outputs": [],
   "source": [
    "# T\n",
    "levels = np.linspace(11.25, 11.85, 61)\n",
    "plot_mean_fields('T', '$^\\circ$C', levels, 'viridis', 'txym', 'temp', -273.15)"
   ]
  },
  {
   "cell_type": "code",
   "execution_count": null,
   "id": "0148ae15-e77e-41d7-ba19-95d5f22154fa",
   "metadata": {},
   "outputs": [],
   "source": [
    "# u\n",
    "levels = np.linspace(-5, 5, 51)\n",
    "plot_mean_fields('$\\overline{u}/u_*$', 'unitless', levels, 'RdBu_r', 'uxym', 'u', scale=1/ustar)"
   ]
  },
  {
   "cell_type": "code",
   "execution_count": null,
   "id": "ef16f5ee-315a-4b8e-bae4-1eff437a9c31",
   "metadata": {},
   "outputs": [],
   "source": [
    "# v\n",
    "levels = np.linspace(-10, 10, 51)\n",
    "plot_mean_fields('$\\overline{v}/u_*$', 'unitless', levels, 'RdBu_r', 'vxym', 'v', scale=1/ustar)"
   ]
  },
  {
   "cell_type": "code",
   "execution_count": null,
   "id": "e26b03ae-4bd2-4e34-86c5-309ebad35cb4",
   "metadata": {},
   "outputs": [],
   "source": [
    "levels = np.linspace(-12, 12, 61)\n",
    "plot_turbulent_flux('wT', '$^\\circ$C m/s', levels, 'RdBu_r', 'wtle', 'wtsb', 'temp', 'nuh', 'gamh', scale=1/Q0)"
   ]
  },
  {
   "cell_type": "code",
   "execution_count": null,
   "id": "7bcf5306-102a-4db6-bf70-816d41274365",
   "metadata": {},
   "outputs": [],
   "source": [
    "levels = np.linspace(-1.2, 1.2, 41)\n",
    "plot_turbulent_flux('$\\overline{w^\\prime u^\\prime}/u_*^2$', 'unitless', levels, 'RdBu_r', 'uwle', 'uwsb', 'u', 'num', 'gamu', 1/ustar**2)"
   ]
  },
  {
   "cell_type": "code",
   "execution_count": null,
   "id": "21ce6c3b-4e6a-482f-a168-0d7648f71798",
   "metadata": {},
   "outputs": [],
   "source": [
    "levels = np.linspace(-1.2, 1.2, 41)\n",
    "plot_turbulent_flux('$\\overline{w^\\prime v^\\prime}/u_*^2$', 'unitless', levels, 'RdBu_r', 'vwle', 'vwsb', 'v', 'num', 'gamv', 1/ustar**2)"
   ]
  },
  {
   "cell_type": "code",
   "execution_count": null,
   "id": "88374dc6-30ed-49dc-b7f7-973d59b80fd0",
   "metadata": {},
   "outputs": [],
   "source": []
  }
 ],
 "metadata": {
  "kernelspec": {
   "display_name": "GOTM",
   "language": "python",
   "name": "gotm"
  },
  "language_info": {
   "codemirror_mode": {
    "name": "ipython",
    "version": 3
   },
   "file_extension": ".py",
   "mimetype": "text/x-python",
   "name": "python",
   "nbconvert_exporter": "python",
   "pygments_lexer": "ipython3",
   "version": "3.9.16"
  }
 },
 "nbformat": 4,
 "nbformat_minor": 5
}
