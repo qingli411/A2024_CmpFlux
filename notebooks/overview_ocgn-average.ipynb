{
 "cells": [
  {
   "cell_type": "code",
   "execution_count": null,
   "id": "020a6c34-a071-45d5-b52f-057999fd36b1",
   "metadata": {
    "tags": []
   },
   "outputs": [],
   "source": [
    "import sys\n",
    "import os\n",
    "import matplotlib.pyplot as plt\n",
    "import numpy as np\n",
    "sys.path.append(os.path.join(os.environ['HOME'], 'local', 'lesview'))\n",
    "from lesview import *\n",
    "from lesview.plots import plot_overview_average"
   ]
  },
  {
   "cell_type": "code",
   "execution_count": null,
   "id": "3be1be1b-4d15-4acf-85f1-60e68678cf4a",
   "metadata": {
    "tags": []
   },
   "outputs": [],
   "source": [
    "casename = 'lsc_ymc22_sbl_bbl_ct_v2'\n",
    "datapath = os.path.join(os.path.pardir, 'tests', '{:s}'.format(casename))\n",
    "figpath  = 'overview_{:s}'.format(casename)\n",
    "os.makedirs(figpath, exist_ok=True)"
   ]
  },
  {
   "cell_type": "code",
   "execution_count": null,
   "id": "f3020125-683d-4adb-93a3-e6975be34cc1",
   "metadata": {
    "tags": []
   },
   "outputs": [],
   "source": [
    "filepath = os.path.join(datapath, 'averages.jld2')\n",
    "data_pfl = OceananigansDataProfile(filepath=filepath)"
   ]
  },
  {
   "cell_type": "code",
   "execution_count": null,
   "id": "cafd6a48-3e67-4c8c-b35f-da45eb584c98",
   "metadata": {
    "tags": []
   },
   "outputs": [],
   "source": [
    "ds = data_pfl.dataset\n",
    "ds"
   ]
  },
  {
   "cell_type": "code",
   "execution_count": null,
   "id": "ca01e39b-a07b-4b86-bbe4-e5fffc135514",
   "metadata": {},
   "outputs": [],
   "source": [
    "g = 9.81\n",
    "H = 30\n",
    "u10 = 8\n",
    "N2 = 1.962e-4\n",
    "bstar = N2 * H\n",
    "cd = 1.25e-3\n",
    "rhoa = 1.225\n",
    "rhoo = 1026\n",
    "tau = rhoa/rhoo*cd*u10*u10\n",
    "ustar = np.sqrt(tau)\n",
    "amplitude = 1.0\n",
    "wavelength = 60\n",
    "wavenumber = 2.*np.pi/wavelength\n",
    "frequency = np.sqrt(g*wavenumber*np.tanh(wavenumber*H))\n",
    "us0 = amplitude**2*wavenumber\n",
    "us = us0 * np.cosh(2. * wavenumber * (ds.z + H)) / (2. * np.sinh(wavenumber * H)**2)\n",
    "dusdz = us.differentiate(coord='z')\n",
    "la = np.sqrt(ustar/us0)\n",
    "print(la)"
   ]
  },
  {
   "cell_type": "code",
   "execution_count": null,
   "id": "8d9fae67-4e57-4c89-aace-923b1907d391",
   "metadata": {},
   "outputs": [],
   "source": [
    "tavg1 = dict(starttime='2000-01-04T00:00:00', endtime='2000-01-04T17:00:00', line_kw=dict(color='k', linestyle='--'))\n",
    "tavg2 = dict(starttime='2000-01-07T00:00:00', endtime='2000-01-07T17:00:00', line_kw=dict(color='k', linestyle='-'))\n",
    "tavgs = dict(T1=tavg1, T2=tavg2)"
   ]
  },
  {
   "cell_type": "code",
   "execution_count": null,
   "id": "2a710878-321e-4d27-a37e-2e4c39e5060d",
   "metadata": {},
   "outputs": [],
   "source": [
    "# das = dict(\n",
    "#     NN = ds.data_vars['b'].differentiate(coord='z')/N2,\n",
    "#     WN = -(ds.data_vars['u']-us).differentiate(coord='z')*dusdz/N2,\n",
    "#     ww = ds.data_vars['ww']/ustar**2,\n",
    "#     wb = ds.data_vars['wb']/ustar/bstar*1e3,\n",
    "# )\n",
    "# labels = dict(\n",
    "#     NN = '$N^2/N_0^2$',\n",
    "#     WN = '$N^2_*/N_0^2$',\n",
    "#     ww  = '$\\overline{{w^\\prime}^2}/u_*^2$',\n",
    "#     wb = '$10^3\\overline{w^\\prime b^\\prime}/u_*b_*$',\n",
    "# )\n",
    "# levels = dict(\n",
    "#     NN = np.linspace(-1, 1, 41),\n",
    "#     WN = np.linspace(-0.4, 0.4, 41),\n",
    "#     ww  = np.linspace(0, 1, 41),\n",
    "#     wb = np.linspace(-1, 1, 41),\n",
    "\n",
    "# )\n",
    "# fig = plot_overview_average(das, labels, levels, tavgs)\n",
    "# figname = os.path.join(figpath, 'stratification')\n",
    "# fig.savefig(figname, dpi = 300, facecolor='w')"
   ]
  },
  {
   "cell_type": "code",
   "execution_count": null,
   "id": "1f2b1123-3832-4891-aec8-eea9c392575b",
   "metadata": {},
   "outputs": [],
   "source": [
    "das = dict(\n",
    "    b  = ds.data_vars['b']/bstar,\n",
    "    NN = ds.data_vars['b'].differentiate(coord='z')/N2,\n",
    "    wb = ds.data_vars['wb']/ustar/bstar*1e3,\n",
    "    bb = ds.data_vars['bb']/bstar**2*1e3,\n",
    ")\n",
    "labels = dict(\n",
    "    b  = '$b/b_*$',\n",
    "    NN = '$N^2/N_0^2$',\n",
    "    wb = '$10^3\\overline{w^\\prime b^\\prime}/u_*b_*$',\n",
    "    bb = '$10^3\\overline{{b^\\prime}^2}/b_*^2$',\n",
    ")\n",
    "levels = dict(\n",
    "    b  = np.linspace(-1, 1, 41),\n",
    "    NN = np.linspace(0, 4, 41),\n",
    "    wb = np.linspace(-4, 4, 41),\n",
    "    bb = np.linspace(0, 4, 41),\n",
    ")\n",
    "fig = plot_overview_average(das, labels, levels, tavgs)\n",
    "figname = os.path.join(figpath, 'buoyancy')\n",
    "fig.savefig(figname, dpi = 300, facecolor='w')"
   ]
  },
  {
   "cell_type": "code",
   "execution_count": null,
   "id": "1bafe626-dc72-431e-b7e8-9a951c498af4",
   "metadata": {},
   "outputs": [],
   "source": [
    "das = dict(\n",
    "    u = ds.data_vars['u']/ustar,\n",
    "    v = ds.data_vars['v']/ustar,\n",
    "    dudz = ds.data_vars['u'].differentiate(coord='z')*H/ustar*0.01,\n",
    "    dvdz = ds.data_vars['v'].differentiate(coord='z')*H/ustar*0.01,\n",
    ")\n",
    "labels = dict(\n",
    "    u = '$u/u_*$',\n",
    "    v = '$v/u_*$',\n",
    "    dudz = '$0.01\\partial_z u H/u_*$',\n",
    "    dvdz = '$0.01\\partial_z v H/u_*$',\n",
    ")\n",
    "levels = dict(\n",
    "    u = np.linspace(-40, 40, 41),\n",
    "    v = np.linspace(-15, 15, 31),\n",
    "    dudz = np.linspace(-2, 2, 41),\n",
    "    dvdz = np.linspace(-2, 2, 41),\n",
    ")\n",
    "fig = plot_overview_average(das, labels, levels, tavgs)\n",
    "figname = os.path.join(figpath, 'velocity')\n",
    "fig.savefig(figname, dpi = 300, facecolor='w')"
   ]
  },
  {
   "cell_type": "code",
   "execution_count": null,
   "id": "e258fb81-020b-4034-97fe-b103a28bb5c6",
   "metadata": {},
   "outputs": [],
   "source": [
    "das = dict(\n",
    "    wb = ds.data_vars['wb']/ustar/bstar*1e3,\n",
    "    wu = ds.data_vars['wu']/ustar**2,\n",
    "    wv = ds.data_vars['wv']/ustar**2,\n",
    ")\n",
    "labels = dict(\n",
    "    wb = '$10^3\\overline{w^\\prime b^\\prime}/u_*b_*$',\n",
    "    wu = '$\\overline{w^\\prime u^\\prime}/u_*^2$',\n",
    "    wv = '$\\overline{w^\\prime v^\\prime}/u_*^2$',\n",
    ")\n",
    "levels = dict(\n",
    "    wb = np.linspace(-4, 4, 41),\n",
    "    wu = np.linspace(-2, 2, 41),\n",
    "    wv = np.linspace(-1.2, 1.2, 41),\n",
    ")\n",
    "fig = plot_overview_average(das, labels, levels, tavgs)\n",
    "figname = os.path.join(figpath, 'flux')\n",
    "fig.savefig(figname, dpi = 300, facecolor='w')"
   ]
  },
  {
   "cell_type": "code",
   "execution_count": null,
   "id": "89a246a1-463e-4249-b4e2-d171cd05cfa4",
   "metadata": {},
   "outputs": [],
   "source": [
    "das = dict(\n",
    "    tke = 0.5*(ds.data_vars['uu']+ds.data_vars['vv']+ds.data_vars['ww'].interp(zi=ds.z))/ustar**2,\n",
    "    uu  = ds.data_vars['uu']/ustar**2,\n",
    "    vv  = ds.data_vars['vv']/ustar**2,\n",
    "    ww  = ds.data_vars['ww']/ustar**2\n",
    ")\n",
    "labels = dict(\n",
    "    tke = '$TKE/u_*^2$',\n",
    "    uu  = '$\\overline{{u^\\prime}^2}/u_*^2$',\n",
    "    vv  = '$\\overline{{v^\\prime}^2}/u_*^2$',\n",
    "    ww  = '$\\overline{{w^\\prime}^2}/u_*^2$',\n",
    ")\n",
    "levels = dict(\n",
    "    tke = np.linspace(0, 8, 41),\n",
    "    uu  = np.linspace(0, 8, 41),\n",
    "    vv  = np.linspace(0, 8, 41),\n",
    "    ww  = np.linspace(0, 8, 41),\n",
    ")\n",
    "fig = plot_overview_average(das, labels, levels, tavgs)\n",
    "figname = os.path.join(figpath, 'tke')\n",
    "fig.savefig(figname, dpi = 300, facecolor='w')"
   ]
  },
  {
   "cell_type": "code",
   "execution_count": null,
   "id": "bda1dcfc-77f1-4635-be20-63b04a978823",
   "metadata": {},
   "outputs": [],
   "source": [
    "das = dict(\n",
    "    ww = ds.data_vars['ww']/ustar**2,\n",
    "    w3 = ds.data_vars['w3']/ustar**3,\n",
    "    sk = ds.data_vars['w3']/ds.data_vars['ww']**1.5,\n",
    ")\n",
    "labels = dict(\n",
    "    ww = '$\\overline{{w^\\prime}^2}/u_*^2$',\n",
    "    w3 = '$\\overline{{w^\\prime}^3}/u_*^3$',\n",
    "    sk = '$\\overline{{w^\\prime}^3}/(\\overline{{w^\\prime}^2})^{3/2}$',\n",
    ")\n",
    "levels = dict(\n",
    "    ww = np.linspace(0, 4, 41),\n",
    "    w3 = np.linspace(-4, 4, 41),\n",
    "    sk = np.linspace(-1, 1, 41),\n",
    ")\n",
    "fig = plot_overview_average(das, labels, levels, tavgs)\n",
    "figname = os.path.join(figpath, 'skewness')\n",
    "fig.savefig(figname, dpi = 300, facecolor='w')"
   ]
  },
  {
   "cell_type": "code",
   "execution_count": null,
   "id": "242b5845-b450-417d-a86f-36097b40fefc",
   "metadata": {},
   "outputs": [],
   "source": [
    "das = dict(\n",
    "    NN = ds.data_vars['b'].differentiate(coord='z')/N2,\n",
    "    SS = (ds.data_vars['u'].differentiate(coord='z')**2+ds.data_vars['v'].differentiate(coord='z')**2)/N2,\n",
    "    Ri = ds.data_vars['b'].differentiate(coord='z')/(ds.data_vars['u'].differentiate(coord='z')**2+ds.data_vars['v'].differentiate(coord='z')**2)\n",
    ")\n",
    "labels = dict(\n",
    "    NN = '$N^2/N_0^2$',\n",
    "    SS = '$S^2/N_0^2$',\n",
    "    Ri = '$N^2/S^2$',\n",
    ")\n",
    "levels = dict(\n",
    "    NN = np.linspace(0, 4, 41),\n",
    "    SS = np.linspace(0, 8, 41),\n",
    "    Ri = np.linspace(0, 1, 5),\n",
    ")\n",
    "fig = plot_overview_average(das, labels, levels, tavgs)\n",
    "figname = os.path.join(figpath, 'mixing')\n",
    "fig.savefig(figname, dpi = 300, facecolor='w')"
   ]
  },
  {
   "cell_type": "code",
   "execution_count": null,
   "id": "b6f5438e-97b3-43c6-a438-27b2d93ccf80",
   "metadata": {},
   "outputs": [],
   "source": [
    "das = dict(\n",
    "    Cs    = np.log10(ds.data_vars['Cs']),\n",
    "    dCsdz = ds.data_vars['Cs'].differentiate(coord='z')*1e3,\n",
    "    # wCs   = (ds.data_vars['wCs']+ds.data_vars['wCssb'])*1e7,\n",
    "    wCs   = ds.data_vars['wCs']*1e7,\n",
    "\n",
    ")\n",
    "labels = dict(\n",
    "    Cs    = '$\\log_{10}(C_s)$',\n",
    "    dCsdz = '$10^3\\partial_z C_s$',\n",
    "    wCs   = '$10^7\\overline{w^\\prime C_s^\\prime}$',\n",
    ")\n",
    "levels = dict(\n",
    "    Cs    = np.linspace(-2.5, -1.5, 41),\n",
    "    dCsdz = np.linspace(-8, 8, 41),\n",
    "    wCs   = np.linspace(-8, 8, 41),\n",
    ")\n",
    "fig = plot_overview_average(das, labels, levels, tavgs)\n",
    "figname = os.path.join(figpath, 'tracer_Cs')\n",
    "fig.savefig(figname, dpi = 300, facecolor='w')"
   ]
  },
  {
   "cell_type": "code",
   "execution_count": null,
   "id": "4f074797-0c54-41bc-95ee-416d6b96dace",
   "metadata": {},
   "outputs": [],
   "source": [
    "das = dict(\n",
    "    Cb    = np.log10(ds.data_vars['Cb']),\n",
    "    dCbdz = ds.data_vars['Cb'].differentiate(coord='z')*1e3,\n",
    "    # wCb   = (ds.data_vars['wCb']+ds.data_vars['wCbsb'])*1e7,\n",
    "    wCb   = ds.data_vars['wCb']*1e7,\n",
    "\n",
    ")\n",
    "labels = dict(\n",
    "    Cb    = '$\\log_{10}(C_b)$',\n",
    "    dCbdz = '$10^3\\partial_z C_b$',\n",
    "    wCb   = '$10^7\\overline{w^\\prime C_b^\\prime}$',\n",
    ")\n",
    "levels = dict(\n",
    "    Cb    = np.linspace(-2.5, -1.5, 41),\n",
    "    dCbdz = np.linspace(-8, 8, 41),\n",
    "    wCb   = np.linspace(-8, 8, 41),\n",
    ")\n",
    "fig = plot_overview_average(das, labels, levels, tavgs)\n",
    "figname = os.path.join(figpath, 'tracer_Cb')\n",
    "fig.savefig(figname, dpi = 300, facecolor='w')"
   ]
  },
  {
   "cell_type": "code",
   "execution_count": null,
   "id": "6b68dde6-372c-4958-821d-d32c79970a85",
   "metadata": {},
   "outputs": [],
   "source": [
    "T0 = 20.0\n",
    "alphaT = 2.0e-4\n",
    "dTdz = N2/alphaT/g\n",
    "\n",
    "das = dict(\n",
    "    T  = ds.data_vars['b']/alphaT/g + (T0 - dTdz*H),\n",
    "    u = ds.data_vars['u']/ustar,\n",
    "    v = ds.data_vars['v']/ustar,\n",
    ")\n",
    "labels = dict(\n",
    "    T = '$T$ [$^\\circ$C]',\n",
    "    u = '$u/u_*$',\n",
    "    v = '$v/u_*$',\n",
    ")\n",
    "levels = dict(\n",
    "    T = np.linspace(17,20,31),\n",
    "    u = np.linspace(-40, 40, 41),\n",
    "    v = np.linspace(-15, 15, 31),\n",
    ")\n",
    "fig = plot_overview_average(das, labels, levels, tavgs)\n",
    "figname = os.path.join(figpath, 'mean')\n",
    "fig.savefig(figname, dpi = 300, facecolor='w')"
   ]
  },
  {
   "cell_type": "code",
   "execution_count": null,
   "id": "71f6ca25-c78f-4a3e-bb71-a17bbcfbe3d5",
   "metadata": {},
   "outputs": [],
   "source": [
    "das = dict(\n",
    "    wT = ds.data_vars['wb']/alphaT/g*1e4,\n",
    "    wu = ds.data_vars['wu']/ustar**2,\n",
    "    wv = ds.data_vars['wv']/ustar**2,\n",
    ")\n",
    "labels = dict(\n",
    "    wT = '$10^4\\overline{w^\\prime T^\\prime}$ [$^\\circ$C m/s]',\n",
    "    wu = '$\\overline{w^\\prime u^\\prime}/u_*^2$',\n",
    "    wv = '$\\overline{w^\\prime v^\\prime}/u_*^2$',\n",
    ")\n",
    "levels = dict(\n",
    "    wT = np.linspace(-1.6, 1.6, 41),\n",
    "    wu = np.linspace(-2, 2, 41),\n",
    "    wv = np.linspace(-1.2, 1.2, 41),\n",
    ")\n",
    "fig = plot_overview_average(das, labels, levels, tavgs)\n",
    "figname = os.path.join(figpath, 'fluxT')\n",
    "fig.savefig(figname, dpi = 300, facecolor='w')"
   ]
  },
  {
   "cell_type": "code",
   "execution_count": null,
   "id": "79d110d0-ba07-4260-8a2c-463f2cb70cd0",
   "metadata": {},
   "outputs": [],
   "source": []
  }
 ],
 "metadata": {
  "kernelspec": {
   "display_name": "Python 3",
   "language": "python",
   "name": "python3"
  },
  "language_info": {
   "codemirror_mode": {
    "name": "ipython",
    "version": 3
   },
   "file_extension": ".py",
   "mimetype": "text/x-python",
   "name": "python",
   "nbconvert_exporter": "python",
   "pygments_lexer": "ipython3",
   "version": "3.9.15"
  }
 },
 "nbformat": 4,
 "nbformat_minor": 5
}
