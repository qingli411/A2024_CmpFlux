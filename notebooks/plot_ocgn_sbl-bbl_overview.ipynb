{
 "cells": [
  {
   "cell_type": "code",
   "execution_count": null,
   "id": "2b8c8228-9b72-429e-b8e6-06317b80866d",
   "metadata": {},
   "outputs": [],
   "source": [
    "import sys\n",
    "import os\n",
    "import matplotlib.pyplot as plt\n",
    "from matplotlib.dates import DateFormatter\n",
    "import numpy as np\n",
    "import pandas as pd\n",
    "import xarray as xr\n",
    "sys.path.append(os.path.join(os.path.pardir, 'lesview'))\n",
    "from lesview import *\n",
    "from sbl_bbl import get_edges"
   ]
  },
  {
   "cell_type": "code",
   "execution_count": null,
   "id": "3ed14af4-b3e5-4f02-98fa-4e5be2d01029",
   "metadata": {},
   "outputs": [],
   "source": [
    "g = 9.81\n",
    "H = 30\n",
    "u10 = 8\n",
    "N2 = 1.962e-4\n",
    "bstar = N2 * H\n",
    "cd = 1.25e-3\n",
    "rhoa = 1.225\n",
    "rhoo = 1026\n",
    "tau = rhoa/rhoo*cd*u10*u10\n",
    "ustar = np.sqrt(tau)\n",
    "amplitude = 1.0\n",
    "wavelength = 60\n",
    "wavenumber = 2.*np.pi/wavelength\n",
    "frequency = np.sqrt(g*wavenumber*np.tanh(wavenumber*H))\n",
    "us0 = amplitude**2*wavenumber\n",
    "la = np.sqrt(ustar/us0)\n",
    "print(la)"
   ]
  },
  {
   "cell_type": "code",
   "execution_count": null,
   "id": "734ced05-c101-4e03-972d-71ee6b17c81e",
   "metadata": {},
   "outputs": [],
   "source": [
    "casename = 'lsc_ymc22_sbl_bbl_v2'\n",
    "datapath = os.path.join(os.path.pardir, 'tests', '{:s}'.format(casename))\n",
    "figpath  = 'overview_{:s}'.format(casename)\n",
    "os.makedirs(figpath, exist_ok=True)"
   ]
  },
  {
   "cell_type": "code",
   "execution_count": null,
   "id": "7ee19746-3696-4b71-a128-da2dda368680",
   "metadata": {},
   "outputs": [],
   "source": [
    "filepath = os.path.join(datapath, 'averages.jld2')\n",
    "data_pfl = OceananigansDataProfile(filepath=filepath)"
   ]
  },
  {
   "cell_type": "code",
   "execution_count": null,
   "id": "49ffd491-bbd6-4b17-bf95-3b071b598d34",
   "metadata": {},
   "outputs": [],
   "source": [
    "ds = data_pfl.dataset\n",
    "ds"
   ]
  },
  {
   "cell_type": "code",
   "execution_count": null,
   "id": "b7729415-ad53-4b70-bf17-3f851f7f1975",
   "metadata": {},
   "outputs": [],
   "source": [
    "tavg1 = dict(starttime='2000-01-04T00:00:00', endtime='2000-01-04T17:00:00', line_kw=dict(color='k', linestyle='--'))\n",
    "tavg2 = dict(starttime='2000-01-11T00:00:00', endtime='2000-01-11T17:00:00', line_kw=dict(color='k', linestyle='-'))\n",
    "tavgs = dict(T1=tavg1, T2=tavg2)"
   ]
  },
  {
   "cell_type": "code",
   "execution_count": null,
   "id": "db0c3439-09dc-4c48-8c55-8fd834aac556",
   "metadata": {},
   "outputs": [],
   "source": [
    "rlcolor = {'RdBu_r': 'k', 'viridis': 'w', 'bone': 'w', 'bone_r': 'k'}"
   ]
  },
  {
   "cell_type": "code",
   "execution_count": null,
   "id": "f9acb3fb-bd39-4f39-b80b-fd72c738bd8f",
   "metadata": {},
   "outputs": [],
   "source": [
    "das = dict(\n",
    "    NN = ds.data_vars['b'].differentiate(coord='z')/N2,\n",
    "    SS = (ds.data_vars['u'].differentiate(coord='z')**2+ds.data_vars['v'].differentiate(coord='z')**2)/N2,\n",
    "    Ri = ds.data_vars['b'].differentiate(coord='z')/(ds.data_vars['u'].differentiate(coord='z')**2+ds.data_vars['v'].differentiate(coord='z')**2),\n",
    "    wb = (ds.data_vars['wb']+ds.data_vars['wbsb'])/ustar/bstar*1e3,\n",
    "    wu = (ds.data_vars['wu']+ds.data_vars['wusb'])/ustar**2,\n",
    "    wv = (ds.data_vars['wv']+ds.data_vars['wvsb'])/ustar**2,\n",
    ")\n",
    "labels = dict(\n",
    "    NN = '$N^2/N_0^2$',\n",
    "    SS = '$S^2/N_0^2$',\n",
    "    Ri = '$N^2/S^2$',\n",
    "    wb = '$10^3\\overline{w^\\prime b^\\prime}/u_*b_*$',\n",
    "    wu = '$\\overline{w^\\prime u^\\prime}/u_*^2$',\n",
    "    wv = '$\\overline{w^\\prime v^\\prime}/u_*^2$',\n",
    ")\n",
    "levels = dict(\n",
    "    NN = np.linspace(0, 3.2, 41),\n",
    "    SS = np.linspace(0, 6.4, 41),\n",
    "    Ri = np.linspace(0, 1, 5),\n",
    "    wb = np.linspace(-4, 4, 41),\n",
    "    wu = np.linspace(-2, 2, 41),\n",
    "    wv = np.linspace(-1.2, 1.2, 41),\n",
    ")\n",
    "cmaps = dict(\n",
    "    NN = 'bone_r',\n",
    "    SS = 'bone_r',\n",
    "    Ri = 'bone_r',\n",
    "    wb = 'RdBu_r',\n",
    "    wu = 'RdBu_r',\n",
    "    wv = 'RdBu_r',\n",
    ")\n",
    "loc = dict(\n",
    "    NN = [0,0],\n",
    "    SS = [1,0],\n",
    "    Ri = [2,0],\n",
    "    wb = [0,1],\n",
    "    wu = [1,1],\n",
    "    wv = [2,1],\n",
    ")\n",
    "xylabel = dict(\n",
    "    NN = [False, True],\n",
    "    SS = [False, True],\n",
    "    Ri = [True, True],\n",
    "    wb = [False, False],\n",
    "    wu = [False, False],\n",
    "    wv = [True, False],\n",
    ")\n",
    "abc = dict(\n",
    "    NN = '(a)',\n",
    "    SS = '(b)',\n",
    "    Ri = '(c)',\n",
    "    wb = '(d)',\n",
    "    wu = '(e)',\n",
    "    wv = '(f)',\n",
    ")\n",
    "\n",
    "z0, z1 = get_edges(ds.data_vars['b'].differentiate(coord='z')/N2)\n",
    "line_kwargs=dict(color='k', linewidth=0.75)\n",
    "\n",
    "nv = int(len(das)/2)\n",
    "fig, axarr = plt.subplots(nv, 2, sharex='col')\n",
    "fig.set_size_inches([10, 0.4+1.5*nv])\n",
    "date_form = DateFormatter(\"%d\")\n",
    "for i, var in enumerate(das.keys()):\n",
    "    al = loc[var]\n",
    "    ax = axarr[al[0], al[1]]\n",
    "    cf = das[var].plot(ax=ax, levels=levels[var], cmap=cmaps[var], cbar_kwargs={'label': labels[var]})\n",
    "    cmap = cf.get_cmap().name\n",
    "    for j, tag in enumerate(tavgs.keys()):\n",
    "        ax.axvline(x=pd.Timestamp(tavgs[tag]['starttime']), linestyle=':', color=rlcolor[cmap])\n",
    "        ax.axvline(x=pd.Timestamp(tavgs[tag]['endtime']), linestyle=':', color=rlcolor[cmap])\n",
    "        if al[0] == 0:\n",
    "            ax.text(pd.Timestamp(tavgs[tag]['starttime']), 0, tag, va='bottom', ha='left')\n",
    "    z0.plot(ax=ax, **line_kwargs)\n",
    "    z1.plot(ax=ax, **line_kwargs)\n",
    "    ax.xaxis.set_major_formatter(date_form)\n",
    "    for lb in ax.get_xticklabels(which='major'):\n",
    "        lb.set(rotation=0, horizontalalignment='right')\n",
    "    ax.text(0.98, 0.92, abc[var], transform=ax.transAxes, va='top', ha='right')\n",
    "    ax.set_title('')\n",
    "    if xylabel[var][0]:\n",
    "        ax.set_xlabel('Time [day]')\n",
    "    else:\n",
    "        ax.set_xlabel('')\n",
    "    if xylabel[var][1]:\n",
    "        ax.set_ylabel('Depth [m]')\n",
    "    else:\n",
    "        ax.set_ylabel('')\n",
    "\n",
    "plt.tight_layout()\n",
    "plt.subplots_adjust(hspace=0.15, wspace=0.12)\n",
    "figname = os.path.join(figpath, 'mean')\n",
    "fig.savefig(figname, dpi = 300, facecolor='w')"
   ]
  },
  {
   "cell_type": "code",
   "execution_count": null,
   "id": "8addbc75-3300-4a55-bf94-545e87b23d19",
   "metadata": {},
   "outputs": [],
   "source": []
  }
 ],
 "metadata": {
  "kernelspec": {
   "display_name": "GOTM",
   "language": "python",
   "name": "gotm"
  },
  "language_info": {
   "codemirror_mode": {
    "name": "ipython",
    "version": 3
   },
   "file_extension": ".py",
   "mimetype": "text/x-python",
   "name": "python",
   "nbconvert_exporter": "python",
   "pygments_lexer": "ipython3",
   "version": "3.9.16"
  }
 },
 "nbformat": 4,
 "nbformat_minor": 5
}
