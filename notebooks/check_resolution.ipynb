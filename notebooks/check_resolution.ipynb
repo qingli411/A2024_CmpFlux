{
 "cells": [
  {
   "cell_type": "code",
   "execution_count": null,
   "id": "7acc3492-1541-433f-8ad8-46939a071ad7",
   "metadata": {},
   "outputs": [],
   "source": [
    "import numpy as np"
   ]
  },
  {
   "cell_type": "code",
   "execution_count": null,
   "id": "ae53b370-64e3-41f0-9a1e-15acec203fef",
   "metadata": {},
   "outputs": [],
   "source": [
    "H=30\n",
    "L=np.pi*2*H\n"
   ]
  },
  {
   "cell_type": "code",
   "execution_count": null,
   "id": "623b5fcb-9410-4e3d-ba2a-e81a9ae95e09",
   "metadata": {},
   "outputs": [],
   "source": [
    "def get_Delta2(nx,nz,L,H):\n",
    "    dx = L/nx\n",
    "    dz = H/nz\n",
    "    return 3*(2/dx**2+1/dz**2)**(-1)"
   ]
  },
  {
   "cell_type": "code",
   "execution_count": null,
   "id": "6da1185d-3f2b-4e35-aca8-c1564640a835",
   "metadata": {},
   "outputs": [],
   "source": [
    "Delta2 = {}\n",
    "for nx in [128, 256, 512]:\n",
    "    for nz in [72, 144, 288]:\n",
    "        label = 'N{:g}L{:g}'.format(nx,nz)\n",
    "        Delta2[label] = get_Delta2(nx,nz,L,H)"
   ]
  },
  {
   "cell_type": "code",
   "execution_count": null,
   "id": "b503fb5e-dd5a-43d6-985a-4e1958fa042c",
   "metadata": {},
   "outputs": [],
   "source": [
    "Delta2"
   ]
  },
  {
   "cell_type": "code",
   "execution_count": null,
   "id": "d4b83cc7-3695-4bc1-9a5b-e12c48fd50c3",
   "metadata": {},
   "outputs": [],
   "source": []
  }
 ],
 "metadata": {
  "kernelspec": {
   "display_name": "Python 3",
   "language": "python",
   "name": "python3"
  },
  "language_info": {
   "codemirror_mode": {
    "name": "ipython",
    "version": 3
   },
   "file_extension": ".py",
   "mimetype": "text/x-python",
   "name": "python",
   "nbconvert_exporter": "python",
   "pygments_lexer": "ipython3",
   "version": "3.9.15"
  }
 },
 "nbformat": 4,
 "nbformat_minor": 5
}
