{
 "cells": [
  {
   "cell_type": "code",
   "execution_count": null,
   "id": "2b8c8228-9b72-429e-b8e6-06317b80866d",
   "metadata": {},
   "outputs": [],
   "source": [
    "import sys\n",
    "import os\n",
    "import matplotlib.pyplot as plt\n",
    "import numpy as np\n",
    "import pandas as pd\n",
    "sys.path.append(os.path.join(os.path.pardir, 'lesview'))\n",
    "sys.path.append(os.path.join(os.path.pardir, 'gotmtool'))\n",
    "from gotmtool import dat_dump_pfl\n",
    "from lesview import *"
   ]
  },
  {
   "cell_type": "code",
   "execution_count": null,
   "id": "7ee19746-3696-4b71-a128-da2dda368680",
   "metadata": {},
   "outputs": [],
   "source": [
    "casename = 'lsc_ymc22_sbl_bbl_v2_rf'\n",
    "datapath = os.path.join(os.path.pardir, 'tests', '{:s}'.format(casename))\n",
    "filepath = os.path.join(datapath, 'averages.jld2')\n",
    "data_pfl = OceananigansDataProfile(filepath=filepath)\n",
    "\n",
    "out_dir = os.path.join(os.path.pardir, 'data', 'gotm', casename)\n",
    "os.makedirs(out_dir, exist_ok=True)"
   ]
  },
  {
   "cell_type": "code",
   "execution_count": null,
   "id": "49ffd491-bbd6-4b17-bf95-3b071b598d34",
   "metadata": {},
   "outputs": [],
   "source": [
    "ds = data_pfl.dataset\n",
    "ds"
   ]
  },
  {
   "cell_type": "code",
   "execution_count": null,
   "id": "fb901383-4db1-4784-990b-84bce449b904",
   "metadata": {},
   "outputs": [],
   "source": [
    "# convert b to T\n",
    "g = 9.81\n",
    "N2 = 1.962e-4\n",
    "T0 = 20.0\n",
    "S0 = 35.0\n",
    "alphaT = 2.0e-4\n",
    "betaS = 8.0e-4\n",
    "H = 30\n",
    "dTdz = N2/alphaT/g\n",
    "dTdz"
   ]
  },
  {
   "cell_type": "code",
   "execution_count": null,
   "id": "31636957-9931-415b-a234-c44f6b3c8bb1",
   "metadata": {},
   "outputs": [],
   "source": [
    "da = ds.data_vars['b']/alphaT/g + T0 - dTdz*H\n",
    "darr = da.data.transpose()\n",
    "time = pd.to_datetime(da.time.data)\n",
    "z = da.z.data\n",
    "dat_dump_pfl(time, z, [darr], os.path.join(out_dir, 't_prof.dat'), order=1)\n",
    "da.plot()"
   ]
  },
  {
   "cell_type": "code",
   "execution_count": null,
   "id": "d04f1066-5f75-4876-958d-23f7460f9c93",
   "metadata": {},
   "outputs": [],
   "source": [
    "dax = ds.data_vars['u']\n",
    "day = ds.data_vars['v']\n",
    "darrx = dax.data.transpose()\n",
    "darry = day.data.transpose()\n",
    "time = pd.to_datetime(dax.time.data)\n",
    "z = dax.z.data\n",
    "\n",
    "# remove Stokes drift\n",
    "depth = 30.0 # m\n",
    "g = 9.81 # m/s2\n",
    "amplitude = 1.13 # m\n",
    "wavelength = 60. # m\n",
    "wavenumber = 2. * np.pi / wavelength # 1/m\n",
    "frequency = np.sqrt(g * wavenumber * np.tanh(wavenumber * depth)) # 1/s\n",
    "us0 = amplitude**2 * wavenumber * frequency # m/s\n",
    "\n",
    "us = us0 * np.cosh(2. * wavenumber * (z + depth)) / (2. * np.sinh(wavenumber * depth)**2)\n",
    "\n",
    "for i in np.arange(0,time.size):\n",
    "    darrx[i,:] -= us\n",
    "\n",
    "dat_dump_pfl(time, z, [darrx, darry], os.path.join(out_dir, 'u_prof.dat'), order=1)\n",
    "plt.figure()\n",
    "dax.plot()\n",
    "plt.figure()\n",
    "day.plot()"
   ]
  },
  {
   "cell_type": "code",
   "execution_count": null,
   "id": "4711e8ca-a280-4f08-8594-cbb7b811ec90",
   "metadata": {},
   "outputs": [],
   "source": [
    "dax[:,-200:].mean(dim='time').plot(y='z')\n",
    "plt.plot(np.mean(darrx[-200:,:], axis=0), z)"
   ]
  },
  {
   "cell_type": "code",
   "execution_count": null,
   "id": "4adad73b-e11e-4f27-af94-0f54df10e4cd",
   "metadata": {},
   "outputs": [],
   "source": [
    "dax[:,0].plot(y='z')\n",
    "plt.plot(darrx[0,:], z)"
   ]
  },
  {
   "cell_type": "code",
   "execution_count": null,
   "id": "843ccf02-6bdc-4ce9-9078-65d729ceda82",
   "metadata": {},
   "outputs": [],
   "source": [
    "da[:,0].plot(y='z')\n",
    "plt.plot(darr[0,:], z)"
   ]
  },
  {
   "cell_type": "code",
   "execution_count": null,
   "id": "f9b7b0b5-7c29-4c86-a675-f15aacbffbd8",
   "metadata": {},
   "outputs": [],
   "source": []
  }
 ],
 "metadata": {
  "kernelspec": {
   "display_name": "GOTM",
   "language": "python",
   "name": "gotm"
  },
  "language_info": {
   "codemirror_mode": {
    "name": "ipython",
    "version": 3
   },
   "file_extension": ".py",
   "mimetype": "text/x-python",
   "name": "python",
   "nbconvert_exporter": "python",
   "pygments_lexer": "ipython3",
   "version": "3.9.16"
  }
 },
 "nbformat": 4,
 "nbformat_minor": 5
}
