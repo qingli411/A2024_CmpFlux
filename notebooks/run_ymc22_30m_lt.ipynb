{
 "cells": [
  {
   "cell_type": "code",
   "execution_count": null,
   "metadata": {},
   "outputs": [],
   "source": [
    "import os\n",
    "import sys\n",
    "import copy\n",
    "import numpy as np\n",
    "import pandas as pd\n",
    "import matplotlib.pyplot as plt\n",
    "sys.path.append(os.path.join(os.path.pardir, 'gotmtool'))\n",
    "from gotmtool import *"
   ]
  },
  {
   "cell_type": "markdown",
   "metadata": {},
   "source": [
    "## Case parameters"
   ]
  },
  {
   "cell_type": "code",
   "execution_count": null,
   "metadata": {},
   "outputs": [],
   "source": [
    "casename = 'lsc_ymc22_sbl_bbl_v2'\n",
    "g = 9.81\n",
    "u10 = 8\n",
    "cd = 1.25e-3\n",
    "rhoa = 1.225\n",
    "rhoo = 1026\n",
    "tau = rhoa * cd * u10 * u10\n",
    "U0 = 0.25\n",
    "f = 1e-4\n",
    "dpdy = -f*U0\n",
    "dhdy = dpdy/g\n",
    "amplitude = 1. # m\n",
    "wavelength = 60. # m"
   ]
  },
  {
   "cell_type": "markdown",
   "metadata": {},
   "source": [
    "## Create a model"
   ]
  },
  {
   "cell_type": "code",
   "execution_count": null,
   "metadata": {},
   "outputs": [],
   "source": [
    "m = Model(name='{:s}'.format(casename), environ=os.path.join(os.path.pardir, 'gotmtool', '.gotm_env.yaml'))"
   ]
  },
  {
   "cell_type": "markdown",
   "metadata": {},
   "source": [
    "Take a look at what are defined in the environment file."
   ]
  },
  {
   "cell_type": "code",
   "execution_count": null,
   "metadata": {},
   "outputs": [],
   "source": [
    "for key in m.environ:\n",
    "    print('{:>15s}: {}'.format(key, m.environ[key]) )"
   ]
  },
  {
   "cell_type": "markdown",
   "metadata": {},
   "source": [
    "## Build the model"
   ]
  },
  {
   "cell_type": "code",
   "execution_count": null,
   "metadata": {},
   "outputs": [],
   "source": [
    "%%time\n",
    "m.build()"
   ]
  },
  {
   "cell_type": "markdown",
   "metadata": {},
   "source": [
    "## Configuration\n",
    "Initialize the GOTM configuration"
   ]
  },
  {
   "cell_type": "code",
   "execution_count": null,
   "metadata": {},
   "outputs": [],
   "source": [
    "cfg = m.init_config()"
   ]
  },
  {
   "cell_type": "markdown",
   "metadata": {},
   "source": [
    "Update the configuration"
   ]
  },
  {
   "cell_type": "code",
   "execution_count": null,
   "metadata": {},
   "outputs": [],
   "source": [
    "# setup\n",
    "title = 'Merging boundary layers'\n",
    "nlev = 144\n",
    "depth = 30.0\n",
    "cfg['title'] = title\n",
    "cfg['location']['name'] = 'Idealized'\n",
    "cfg['location']['latitude'] = 45.0\n",
    "cfg['location']['longitude'] = 0.0\n",
    "cfg['location']['depth'] = depth\n",
    "cfg['time']['start'] = '2000-01-01 00:00:00'\n",
    "cfg['time']['stop']  = '2000-01-13 00:00:00'\n",
    "cfg['time']['dt']    = 60.0\n",
    "cfg['grid']['nlev']  = nlev\n",
    "\n",
    "# output\n",
    "cfg['output'] = {}\n",
    "cfg['output']['gotm_out'] = {}\n",
    "cfg['output']['gotm_out']['use'] = True\n",
    "cfg['output']['gotm_out']['title'] = title\n",
    "cfg['output']['gotm_out']['k1_stop'] = nlev+1\n",
    "cfg['output']['gotm_out']['k_stop'] = nlev\n",
    "cfg['output']['gotm_out']['time_unit'] = 'dt'\n",
    "cfg['output']['gotm_out']['time_step'] = 3\n",
    "cfg['output']['gotm_out']['variables'] = [{}]\n",
    "cfg['output']['gotm_out']['variables'][0]['source'] = '*'\n",
    "\n",
    "# forcing\n",
    "datadir = os.path.join(m.environ['gotmdir_data'], casename)\n",
    "cfg['temperature']['method'] = 'file'\n",
    "cfg['temperature']['file'] = os.path.join(datadir, 't_prof.dat')\n",
    "cfg['temperature']['type'] = 'potential'\n",
    "cfg['salinity']['method'] = 'constant'\n",
    "cfg['salinity']['constant_value'] = 35.0\n",
    "cfg['surface']['fluxes']['heat']['method'] = 'constant'\n",
    "cfg['surface']['fluxes']['heat']['constant_value'] = 0.0\n",
    "cfg['surface']['fluxes']['tx']['method'] = 'constant'\n",
    "cfg['surface']['fluxes']['tx']['constant_value'] = tau\n",
    "cfg['surface']['fluxes']['ty']['method'] = 'constant'\n",
    "cfg['surface']['fluxes']['ty']['constant_value'] = 0.0\n",
    "cfg['surface']['swr']['method'] = 'constant'\n",
    "cfg['surface']['precip']['method'] = 'constant'\n",
    "cfg['mimic_3d']['ext_pressure']['type'] = 'elevation'\n",
    "cfg['mimic_3d']['ext_pressure']['dpdy']['method'] = 'constant'\n",
    "cfg['mimic_3d']['ext_pressure']['dpdy']['constant_value'] = dhdy\n",
    "cfg['bottom']['h0b'] = 0.01\n",
    "cfg['velocities']['u']['method'] = 'file'\n",
    "cfg['velocities']['u']['file'] = os.path.join(datadir, 'u_prof.dat')\n",
    "cfg['velocities']['u']['column'] = 1\n",
    "cfg['velocities']['v']['method'] = 'file'\n",
    "cfg['velocities']['v']['file'] = os.path.join(datadir, 'u_prof.dat')\n",
    "cfg['velocities']['v']['column'] = 2\n",
    "\n",
    "# Stokes drift\n",
    "cfg['waves']['stokes_drift']['us']['method'] = 'file'\n",
    "cfg['waves']['stokes_drift']['vs']['method'] = 'file'\n",
    "cfg['waves']['stokes_drift']['us']['file'] = 'us_prof.dat'\n",
    "cfg['waves']['stokes_drift']['us']['column'] = 1\n",
    "cfg['waves']['stokes_drift']['vs']['file'] = 'us_prof.dat'\n",
    "cfg['waves']['stokes_drift']['vs']['column'] = 2\n",
    "# cfg['waves']['stokes_drift']['dusdz']['method'] = 'us'\n",
    "# cfg['waves']['stokes_drift']['dvsdz']['method'] = 'vs'\n",
    "cfg['waves']['stokes_drift']['dusdz']['method'] = 'file'\n",
    "cfg['waves']['stokes_drift']['dvsdz']['method'] = 'file'\n",
    "cfg['waves']['stokes_drift']['dusdz']['file'] = 'dusdz_prof.dat'\n",
    "cfg['waves']['stokes_drift']['dusdz']['column'] = 1\n",
    "cfg['waves']['stokes_drift']['dvsdz']['file'] = 'dusdz_prof.dat'\n",
    "cfg['waves']['stokes_drift']['dvsdz']['column'] = 2\n",
    "\n",
    "# EOS -- use linear\n",
    "cfg['equation_of_state']['method'] = 'linear_custom'\n",
    "cfg['equation_of_state']['rho0'] = rhoo\n",
    "cfg['equation_of_state']['linear']['T0'] = 20.0\n",
    "cfg['equation_of_state']['linear']['S0'] = 35.0\n",
    "cfg['equation_of_state']['linear']['alpha'] = 2.0e-4\n",
    "cfg['equation_of_state']['linear']['beta'] = 8.0e-4\n",
    "\n",
    "# water type (Jerlov IB)\n",
    "cfg['light_extinction']['method'] = 'jerlov-ib'"
   ]
  },
  {
   "cell_type": "markdown",
   "metadata": {},
   "source": [
    "### Turbulence closure scheme\n"
   ]
  },
  {
   "cell_type": "code",
   "execution_count": null,
   "metadata": {},
   "outputs": [],
   "source": [
    "# collect the configurations and the labels of the two runs\n",
    "cfgs = []\n",
    "labels = []"
   ]
  },
  {
   "cell_type": "code",
   "execution_count": null,
   "metadata": {},
   "outputs": [],
   "source": [
    "cfg['turbulence']['turb_method'] = 'cvmix'\n",
    "cfg['cvmix']['surface_layer']['use'] = True\n",
    "cfg['cvmix']['surface_layer']['langmuir_method'] = 'lf17'\n",
    "cfg['cvmix']['bottom_layer']['use'] = True\n",
    "cfg['cvmix']['interior']['use'] = True\n",
    "cfg['cvmix']['interior']['background']['use'] = True\n",
    "cfg['cvmix']['interior']['shear']['use'] = True\n",
    "cfgs.append(copy.deepcopy(cfg))\n",
    "labels.append('KPPLT-LF17')"
   ]
  },
  {
   "cell_type": "code",
   "execution_count": null,
   "metadata": {},
   "outputs": [],
   "source": [
    "cfg['temperature']['relax']['tau'] = 60.0\n",
    "cfg['velocities']['relax']['tau'] = 60.0\n",
    "cfgs.append(copy.deepcopy(cfg))\n",
    "labels.append('KPPLT-LF17-Rlx')"
   ]
  },
  {
   "cell_type": "code",
   "execution_count": null,
   "metadata": {},
   "outputs": [],
   "source": [
    "cfg['temperature']['relax']['tau'] = 1.0e15\n",
    "cfg['velocities']['relax']['tau'] = 1.0e15\n",
    "\n",
    "cfg['turbulence']['turb_method'] = 'second_order'\n",
    "cfg['turbulence']['tke_method'] = 'mellor_yamada'\n",
    "cfg['turbulence']['len_scale_method'] = 'mellor_yamada'\n",
    "cfg['turbulence']['scnd']['method'] =  'quasi_eq_h15'\n",
    "cfg['turbulence']['scnd']['scnd_coeff'] =  'kantha_clayson'\n",
    "cfg['turbulence']['turb_param']['length_lim'] = 'false'\n",
    "cfg['turbulence']['turb_param']['compute_c3'] = 'false'\n",
    "cfg['turbulence']['my']['e3'] = 5.0\n",
    "cfg['turbulence']['my']['e6'] = 6.0\n",
    "cfgs.append(copy.deepcopy(cfg))\n",
    "labels.append('SMCLT-H15')"
   ]
  },
  {
   "cell_type": "code",
   "execution_count": null,
   "metadata": {},
   "outputs": [],
   "source": [
    "cfg['temperature']['relax']['tau'] = 60.0\n",
    "cfg['velocities']['relax']['tau'] = 60.0\n",
    "cfgs.append(copy.deepcopy(cfg))\n",
    "labels.append('SMCLT-H15-Rlx')"
   ]
  },
  {
   "cell_type": "code",
   "execution_count": null,
   "metadata": {},
   "outputs": [],
   "source": [
    "cfg['temperature']['relax']['tau'] = 1.0e15\n",
    "cfg['velocities']['relax']['tau'] = 1.0e15\n",
    "\n",
    "cfg['turbulence']['turb_method'] = 'second_order'\n",
    "cfg['turbulence']['tke_method'] = 'mellor_yamada'\n",
    "cfg['turbulence']['len_scale_method'] = 'mellor_yamada'\n",
    "cfg['turbulence']['scnd']['method'] =  'quasi_eq'\n",
    "cfg['turbulence']['scnd']['scnd_coeff'] =  'kantha_clayson'\n",
    "cfg['turbulence']['turb_param']['length_lim'] = 'false'\n",
    "cfg['turbulence']['turb_param']['compute_c3'] = 'false'\n",
    "cfg['turbulence']['my']['e3'] = 5.0\n",
    "cfg['turbulence']['my']['e6'] = 6.0\n",
    "cfgs.append(copy.deepcopy(cfg))\n",
    "labels.append('SMCLT-KC04')"
   ]
  },
  {
   "cell_type": "code",
   "execution_count": null,
   "metadata": {},
   "outputs": [],
   "source": [
    "cfg['temperature']['relax']['tau'] = 60.0\n",
    "cfg['velocities']['relax']['tau'] = 60.0\n",
    "cfgs.append(copy.deepcopy(cfg))\n",
    "labels.append('SMCLT-KC04-Rlx')"
   ]
  },
  {
   "cell_type": "markdown",
   "metadata": {},
   "source": [
    "### Stokes drift\n",
    "\n",
    "Stokes drift according to Eq (5) of [Yan et al., 2022](https://doi.org/10.1175/JPO-D-21-0067.1) is\n",
    "$$\n",
    "u_s = U_s\\frac{\\cosh[2k(z+H)]}{2\\sinh^2(kH)}\n",
    "$$\n",
    "where $k$ is the wavenumber, $H$ is the water depth, $U_s=\\sigma_w k a_w^2$ is the surface value of Stokes drift, with $\\sigma_w$ the frequency and $a_w$ the amplitude.\n",
    "\n",
    "The vertical shear of this Stokes drift is\n",
    "$$\n",
    "\\frac{d u_s}{dz} = U_s k \\frac{\\sinh[2k(z+H)]}{\\sinh^2(kH)}\n",
    "$$"
   ]
  },
  {
   "cell_type": "code",
   "execution_count": null,
   "metadata": {},
   "outputs": [],
   "source": [
    "wavenumber = 2. * np.pi / wavelength # 1/m\n",
    "frequency = np.sqrt(g * wavenumber * np.tanh(wavenumber * depth)) # 1/s\n",
    "us0 = amplitude**2 * wavenumber * frequency # m/s\n",
    "\n",
    "zi = -np.linspace(0,depth,nlev+1)\n",
    "z  = 0.5 * (zi[:-1] + zi[1:])\n",
    "us = us0 * np.cosh(2. * wavenumber * (z + depth)) / (2. * np.sinh(wavenumber * depth)**2)\n",
    "us_arr = us.reshape((1, us.size))\n",
    "vs_arr = np.zeros_like(us_arr)\n",
    "\n",
    "dusdz = us0 * wavenumber * np.sinh(2. * wavenumber * (zi + depth)) / np.sinh(wavenumber * depth)**2\n",
    "dusdz_arr = dusdz.reshape((1, dusdz.size))\n",
    "dvsdz_arr = np.zeros_like(dusdz_arr)\n",
    "\n"
   ]
  },
  {
   "cell_type": "markdown",
   "metadata": {},
   "source": [
    "Save the Stokes drift profiles"
   ]
  },
  {
   "cell_type": "code",
   "execution_count": null,
   "metadata": {},
   "outputs": [],
   "source": [
    "time =  pd.date_range(cfg['time']['start'], freq='D', periods=1)\n",
    "time\n",
    "for lb in labels:\n",
    "    run_dir = os.path.join(m.environ['gotmdir_run'], m.name, lb)\n",
    "    print('Writing Stokes drift profile to {:}'.format(run_dir))\n",
    "    os.makedirs(run_dir, exist_ok=True)\n",
    "    dat_dump_pfl(time, z, [us_arr, vs_arr], os.path.join(run_dir, 'us_prof.dat'))\n",
    "    dat_dump_pfl(time, zi, [dusdz_arr, dvsdz_arr], os.path.join(run_dir, 'dusdz_prof.dat'))"
   ]
  },
  {
   "cell_type": "code",
   "execution_count": null,
   "metadata": {},
   "outputs": [],
   "source": [
    "plt.plot(us, z)\n",
    "plt.xlabel('$u_s$ [m s$^{-1}$]')\n",
    "plt.ylabel('z [m]')\n",
    "plt.title('Stokes drift')"
   ]
  },
  {
   "cell_type": "code",
   "execution_count": null,
   "metadata": {},
   "outputs": [],
   "source": [
    "plt.plot(dusdz, zi)\n",
    "plt.xlabel('$d u_s / dz $ [s$^{-1}$]')\n",
    "plt.ylabel('z [m]')\n",
    "plt.title('Stokes drift shear')"
   ]
  },
  {
   "cell_type": "markdown",
   "metadata": {},
   "source": [
    "## Run the model"
   ]
  },
  {
   "cell_type": "code",
   "execution_count": null,
   "metadata": {},
   "outputs": [],
   "source": [
    "%%time\n",
    "sims = m.run_batch(configs=cfgs, labels=labels, nproc=2)"
   ]
  },
  {
   "cell_type": "markdown",
   "metadata": {},
   "source": [
    "## Results\n",
    "\n",
    "Load the data into an `xarray.Dataset`."
   ]
  },
  {
   "cell_type": "code",
   "execution_count": null,
   "metadata": {},
   "outputs": [],
   "source": [
    "levels = np.linspace(17, 20, 41)\n",
    "nplots = len(labels)\n",
    "for i in np.arange(nplots):\n",
    "    fig = plt.figure(figsize=[12,4])\n",
    "    data = sims[i].load_data()\n",
    "    data.data_vars['temp'].plot(levels=levels)"
   ]
  },
  {
   "cell_type": "code",
   "execution_count": null,
   "metadata": {},
   "outputs": [],
   "source": [
    "levels = np.linspace(17, 20, 41)\n",
    "levels = None\n",
    "nplots = len(labels)\n",
    "for i in np.arange(nplots):\n",
    "    fig = plt.figure(figsize=[12,4])\n",
    "    data = sims[i].load_data()\n",
    "    (data.data_vars['temp']-data.data_vars['temp_obs']).plot(levels=levels)"
   ]
  },
  {
   "cell_type": "code",
   "execution_count": null,
   "metadata": {},
   "outputs": [],
   "source": [
    "levels = np.linspace(-0.4, 0.4, 41)\n",
    "nplots = len(labels)\n",
    "for i in np.arange(nplots):\n",
    "    fig = plt.figure(figsize=[12,4])\n",
    "    data = sims[i].load_data()\n",
    "    data.data_vars['u'].plot(levels=levels)"
   ]
  },
  {
   "cell_type": "code",
   "execution_count": null,
   "metadata": {},
   "outputs": [],
   "source": [
    "levels = np.linspace(-0.4, 0.4, 41)\n",
    "nplots = len(labels)\n",
    "for i in np.arange(nplots):\n",
    "    fig = plt.figure(figsize=[12,4])\n",
    "    data = sims[i].load_data()\n",
    "    (data.data_vars['u']-data.data_vars['u_obs']).plot(levels=levels)"
   ]
  },
  {
   "cell_type": "code",
   "execution_count": null,
   "metadata": {},
   "outputs": [],
   "source": [
    "levels = np.linspace(-0.4, 0.4, 41)\n",
    "nplots = len(labels)\n",
    "for i in np.arange(nplots):\n",
    "    fig = plt.figure(figsize=[12,4])\n",
    "    data = sims[i].load_data()\n",
    "    data.data_vars['v'].plot(levels=levels)"
   ]
  },
  {
   "cell_type": "code",
   "execution_count": null,
   "metadata": {},
   "outputs": [],
   "source": [
    "levels = np.linspace(-0.4, 0.4, 41)\n",
    "nplots = len(labels)\n",
    "for i in np.arange(nplots):\n",
    "    fig = plt.figure(figsize=[12,4])\n",
    "    data = sims[i].load_data()\n",
    "    (data.data_vars['v']-data.data_vars['v_obs']).plot(levels=levels)"
   ]
  },
  {
   "cell_type": "code",
   "execution_count": null,
   "metadata": {},
   "outputs": [],
   "source": [
    "levels = None\n",
    "nplots = len(labels)\n",
    "for i in np.arange(nplots):\n",
    "    fig = plt.figure(figsize=[12,4])\n",
    "    data = sims[i].load_data()\n",
    "    data.data_vars['num'].plot(levels=levels)"
   ]
  },
  {
   "cell_type": "code",
   "execution_count": null,
   "metadata": {},
   "outputs": [],
   "source": [
    "levels = None\n",
    "nplots = len(labels)\n",
    "for i in np.arange(nplots):\n",
    "    fig = plt.figure(figsize=[12,4])\n",
    "    data = sims[i].load_data()\n",
    "    data.data_vars['nuh'].plot(levels=levels)"
   ]
  },
  {
   "cell_type": "code",
   "execution_count": null,
   "metadata": {},
   "outputs": [],
   "source": [
    "levels = None\n",
    "nplots = len(labels)\n",
    "for i in np.arange(nplots):\n",
    "    fig = plt.figure(figsize=[12,4])\n",
    "    data = sims[i].load_data()\n",
    "    data.data_vars['nucl'].plot(levels=levels)"
   ]
  },
  {
   "cell_type": "code",
   "execution_count": null,
   "metadata": {},
   "outputs": [],
   "source": []
  }
 ],
 "metadata": {
  "kernelspec": {
   "display_name": "Python 3",
   "language": "python",
   "name": "python3"
  },
  "language_info": {
   "codemirror_mode": {
    "name": "ipython",
    "version": 3
   },
   "file_extension": ".py",
   "mimetype": "text/x-python",
   "name": "python",
   "nbconvert_exporter": "python",
   "pygments_lexer": "ipython3",
   "version": "3.9.15"
  }
 },
 "nbformat": 4,
 "nbformat_minor": 4
}
