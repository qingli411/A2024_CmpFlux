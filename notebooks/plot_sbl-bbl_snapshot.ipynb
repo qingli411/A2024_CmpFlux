{
 "cells": [
  {
   "cell_type": "code",
   "execution_count": null,
   "id": "020a6c34-a071-45d5-b52f-057999fd36b1",
   "metadata": {
    "tags": []
   },
   "outputs": [],
   "source": [
    "import sys\n",
    "import os\n",
    "import matplotlib.pyplot as plt\n",
    "import matplotlib.gridspec as gridspec\n",
    "from matplotlib.dates import DateFormatter\n",
    "import numpy as np\n",
    "sys.path.append(os.path.join(os.path.pardir, 'lesview'))\n",
    "from lesview import *\n",
    "from lesview.plots import plot_box_field"
   ]
  },
  {
   "cell_type": "code",
   "execution_count": null,
   "id": "3be1be1b-4d15-4acf-85f1-60e68678cf4a",
   "metadata": {
    "tags": []
   },
   "outputs": [],
   "source": [
    "casename = 'lsc_ymc22_sbl_bbl_v2'\n",
    "runs = {'r1': '', 'r2': '_rf'}\n",
    "ds_fld = {}\n",
    "for rkey in runs.keys():\n",
    "    datapath = os.path.join(os.path.pardir, 'tests', '{:s}{:s}'.format(casename, runs[rkey]))\n",
    "    filepath = os.path.join(datapath, 'fields.jld2')\n",
    "    ds_fld[rkey] = OceananigansDataVolume(filepath=filepath, fieldname=['w']).dataset"
   ]
  },
  {
   "cell_type": "code",
   "execution_count": null,
   "id": "c86a9055-7ec0-4e9b-a7be-a465c53979b8",
   "metadata": {},
   "outputs": [],
   "source": [
    "figpath  = 'overview_{:s}'.format(casename)\n",
    "os.makedirs(figpath, exist_ok=True)"
   ]
  },
  {
   "cell_type": "code",
   "execution_count": null,
   "id": "0b4b373c-b1d5-4a35-9f0b-22e541ad0acf",
   "metadata": {
    "tags": []
   },
   "outputs": [],
   "source": [
    "g = 9.81\n",
    "H = 30\n",
    "u10 = 8\n",
    "cd = 1.25e-3\n",
    "rhoa = 1.225\n",
    "rhoo = 1026\n",
    "tau = rhoa/rhoo*cd*u10*u10\n",
    "ustar = np.sqrt(tau)"
   ]
  },
  {
   "cell_type": "code",
   "execution_count": null,
   "id": "035ea509-9937-486e-878c-ced7cf2bf8a5",
   "metadata": {},
   "outputs": [],
   "source": [
    "ds = ds_fld['r1']\n",
    "levels = np.linspace(-0.04, 0.04, 41)\n",
    "plot_box_field(ds.data_vars['w'], view='both', itime=-2, cmap='RdBu_r', levels=levels)"
   ]
  },
  {
   "cell_type": "code",
   "execution_count": null,
   "id": "4d769bf0-7c52-4ae4-9542-f78cc7bb9afe",
   "metadata": {},
   "outputs": [],
   "source": [
    "ds = ds_fld['r1']\n",
    "levels = np.linspace(-4, 4, 41)\n",
    "tstamps = ['2000-01-05T00:00:00', '2000-01-11T00:00:00']\n",
    "abc = 'abcd'\n",
    "tags = ['Aligned', 'Opposite']\n",
    "tags2 = ['T1', 'T2']\n",
    "fig, axarr = plt.subplots(2, 2, subplot_kw={'projection': '3d', 'computed_zorder': False})\n",
    "fig.set_size_inches(10,7.5)\n",
    "\n",
    "for i, rkey in enumerate(runs.keys()):\n",
    "    ds = ds_fld[rkey]\n",
    "    for j, tstmp in enumerate(tstamps):\n",
    "        ax = axarr[j,i]\n",
    "        da = ds.data_vars['w'].sel(time=slice(tstmp,tstmp))/ustar\n",
    "        im = plot_box_field(da, ax=ax, view='both', itime=0, cmap='RdBu_r', levels=levels, add_colorbar=False, add_timestamp=False)\n",
    "        ax.set_xticks([0, np.pi/2*H, np.pi*H, np.pi*H*1.5, np.pi*2*H])\n",
    "        ax.set_xticklabels(['0', '$\\pi/2$', '$\\pi$', '$3\\pi/2$', '$2\\pi$'])\n",
    "        ax.set_xlabel('$x/H$')\n",
    "        ax.set_yticks([0, np.pi/2*H, np.pi*H, np.pi*H*1.5, np.pi*2*H])\n",
    "        ax.set_yticklabels(['0', '$\\pi/2$', '$\\pi$', '$3\\pi/2$', '$2\\pi$'])\n",
    "        ax.set_ylabel('$y/H$')\n",
    "        ax.set_zticks([-H, -0.5*H, 0])\n",
    "        ax.set_zticklabels(['$-1.0$', '$-0.5$', '$0.0$'])\n",
    "        ax.set_zlabel('$z/H$')\n",
    "        ax.text2D(0.1, 0.8, '({:s})'.format(abc[i*2+j]), transform=ax.transAxes, va='top', ha='left', fontsize=10)\n",
    "        if j == 0:\n",
    "            ax.text2D(0.75, 0.9, '{:s}'.format(tags[i]), transform=ax.transAxes, va='top', ha='left', fontsize=12)\n",
    "        if i == 0:\n",
    "            ax.text2D(0.02, 0.1, '{:s}'.format(tags2[j]), transform=ax.transAxes, va='top', ha='left', fontsize=12)\n",
    "        \n",
    "\n",
    "ax_inset = axarr[1,1].inset_axes([-0.35, 0.95, 0.5, 0.03])\n",
    "cb = plt.colorbar(im, cax=ax_inset, orientation='horizontal', label='$w/u_*$')\n",
    "plt.subplots_adjust(top=1, bottom=0.02, left=0.0, right=0.92, hspace=-0.01, wspace=0.12)\n",
    "figname = os.path.join(figpath, 'snapshot-w')\n",
    "fig.savefig(figname, dpi = 300, facecolor='w')"
   ]
  },
  {
   "cell_type": "code",
   "execution_count": null,
   "id": "6ca16f7e-cd5a-44c0-b646-300ede94bbcd",
   "metadata": {},
   "outputs": [],
   "source": []
  }
 ],
 "metadata": {
  "kernelspec": {
   "display_name": "Python 3",
   "language": "python",
   "name": "python3"
  },
  "language_info": {
   "codemirror_mode": {
    "name": "ipython",
    "version": 3
   },
   "file_extension": ".py",
   "mimetype": "text/x-python",
   "name": "python",
   "nbconvert_exporter": "python",
   "pygments_lexer": "ipython3",
   "version": "3.9.15"
  }
 },
 "nbformat": 4,
 "nbformat_minor": 5
}
