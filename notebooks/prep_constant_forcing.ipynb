{
 "cells": [
  {
   "cell_type": "code",
   "execution_count": null,
   "id": "2b8c8228-9b72-429e-b8e6-06317b80866d",
   "metadata": {},
   "outputs": [],
   "source": [
    "import sys\n",
    "import os\n",
    "import matplotlib.pyplot as plt\n",
    "import numpy as np\n",
    "import pandas as pd\n",
    "sys.path.append(os.path.join(os.path.pardir, 'lesview'))\n",
    "sys.path.append(os.path.join(os.path.pardir, 'gotmtool'))\n",
    "from gotmtool import dat_dump_pfl\n",
    "from lesview import *"
   ]
  },
  {
   "cell_type": "code",
   "execution_count": null,
   "id": "7ee19746-3696-4b71-a128-da2dda368680",
   "metadata": {},
   "outputs": [],
   "source": [
    "# casename = 'R7_BF5hWD05WV00_ST00_ens01'\n",
    "# ncarles_file = 'his.mp.vis.000001.028801.nc'\n",
    "casename = 'R7_BF05WD10WV00_ST00_ens01'\n",
    "ncarles_file = 'his.mp.vis.000001.036001.nc'\n",
    "\n",
    "shortname = casename[3:15]\n",
    "print(shortname)\n",
    "ncarles_dir  = os.path.join(os.path.pardir, 'data', 'ncarles', 'LF17_Profile_data', '{:s}'.format(casename))\n",
    "ncarles_pfl  = NCARLESDataProfile(filepath=os.path.join(ncarles_dir, ncarles_file))\n",
    "\n",
    "out_dir = os.path.join(os.path.pardir, 'data', 'gotm', 'constant_forcing')"
   ]
  },
  {
   "cell_type": "code",
   "execution_count": null,
   "id": "49ffd491-bbd6-4b17-bf95-3b071b598d34",
   "metadata": {},
   "outputs": [],
   "source": [
    "ds = ncarles_pfl.dataset\n",
    "ds"
   ]
  },
  {
   "cell_type": "code",
   "execution_count": null,
   "id": "e0f911fb-33a6-4717-a79e-997069af46f9",
   "metadata": {},
   "outputs": [],
   "source": [
    "time0 = pd.to_datetime('2000-01-01T00:00:00')\n",
    "time0"
   ]
  },
  {
   "cell_type": "code",
   "execution_count": null,
   "id": "31636957-9931-415b-a234-c44f6b3c8bb1",
   "metadata": {},
   "outputs": [],
   "source": [
    "darr = np.pad((ds.txym.data.transpose() - 273.15), [(1,0),(0,0)])\n",
    "time = pd.to_datetime(ds.txym.time.data).insert(0,time0)\n",
    "z = ds.txym.z.data\n",
    "idx = np.argmin(np.abs(z+42))\n",
    "t0 = 11.85\n",
    "dtdz = 0.01\n",
    "darr[0,:] = t0 + dtdz * (z + 42)\n",
    "darr[0,:idx+1] = t0\n",
    "dat_dump_pfl(time, z, [darr], os.path.join(out_dir, 't_prof_{:s}.dat'.format(shortname)))\n",
    "(ds.txym-273.15).plot()"
   ]
  },
  {
   "cell_type": "code",
   "execution_count": null,
   "id": "d04f1066-5f75-4876-958d-23f7460f9c93",
   "metadata": {},
   "outputs": [],
   "source": [
    "darrx = np.pad(ds.uxym.data.transpose(), [(1,0),(0,0)])\n",
    "darry = np.pad(ds.vxym.data.transpose(), [(1,0),(0,0)])\n",
    "time = pd.to_datetime(ds.uxym.time.data).insert(0,time0)\n",
    "z = ds.uxym.z.data\n",
    "dat_dump_pfl(time, z, [darrx, darry], os.path.join(out_dir, 'u_prof_{:s}.dat'.format(shortname)))\n",
    "plt.figure()\n",
    "ds.uxym.plot()\n",
    "plt.figure()\n",
    "ds.vxym.plot()"
   ]
  }
 ],
 "metadata": {
  "kernelspec": {
   "display_name": "GOTM",
   "language": "python",
   "name": "gotm"
  },
  "language_info": {
   "codemirror_mode": {
    "name": "ipython",
    "version": 3
   },
   "file_extension": ".py",
   "mimetype": "text/x-python",
   "name": "python",
   "nbconvert_exporter": "python",
   "pygments_lexer": "ipython3",
   "version": "3.9.16"
  }
 },
 "nbformat": 4,
 "nbformat_minor": 5
}
