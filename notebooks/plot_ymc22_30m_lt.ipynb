{
 "cells": [
  {
   "cell_type": "code",
   "execution_count": null,
   "id": "78b4d19a-8922-4cb3-aa2a-357a08bcf2ba",
   "metadata": {},
   "outputs": [],
   "source": [
    "import os\n",
    "import sys\n",
    "import copy\n",
    "import numpy as np\n",
    "import pandas as pd\n",
    "import xarray as xr\n",
    "import matplotlib.pyplot as plt\n",
    "sys.path.append(os.path.join(os.path.pardir, 'gotmtool'))\n",
    "sys.path.append(os.path.join(os.path.pardir, 'lesview'))\n",
    "from gotmtool import *\n",
    "from lesview import *"
   ]
  },
  {
   "cell_type": "code",
   "execution_count": null,
   "id": "374b8af7-17b3-44a6-9013-7a75b58e7519",
   "metadata": {},
   "outputs": [],
   "source": [
    "casename = 'lsc_ymc22_sbl_bbl_rf'\n",
    "turbmethod = 'SMCLT-H15'\n",
    "# turbmethod = 'KPPLT-LF17'\n",
    "\n",
    "datapath = os.path.join(os.path.pardir, 'oceananigans', '{:s}'.format(casename))\n",
    "filepath = os.path.join(datapath, 'averages.jld2')\n",
    "data_pfl = OceananigansDataProfile(filepath=filepath)\n",
    "les_ds = data_pfl.dataset\n",
    "\n",
    "gotm_dir   = os.path.join(os.path.pardir, 'gotm', 'run', '{:s}'.format(casename))\n",
    "gotm_sim1  = Simulation(path=os.path.join(gotm_dir, turbmethod))\n",
    "gotm_sim2  = Simulation(path=os.path.join(gotm_dir, turbmethod+'-Rlx'))\n",
    "gotm_ds1   = gotm_sim1.load_data()\n",
    "gotm_ds2   = gotm_sim2.load_data()"
   ]
  },
  {
   "cell_type": "code",
   "execution_count": null,
   "id": "b717b3be-f2f3-444d-b6ff-060f601b3913",
   "metadata": {},
   "outputs": [],
   "source": [
    "les_ds"
   ]
  },
  {
   "cell_type": "code",
   "execution_count": null,
   "id": "8691415b-8f4f-428e-a03d-0a3a9f1488ba",
   "metadata": {},
   "outputs": [],
   "source": [
    "gotm_ds1"
   ]
  },
  {
   "cell_type": "code",
   "execution_count": null,
   "id": "2f3d3ce4-b80e-4d81-a128-da0eb2f868b6",
   "metadata": {},
   "outputs": [],
   "source": [
    "gotm_ds2"
   ]
  },
  {
   "cell_type": "code",
   "execution_count": null,
   "id": "841bd444-5af5-4462-82d5-595f2acf44e6",
   "metadata": {},
   "outputs": [],
   "source": [
    "g = 9.81\n",
    "H = 30\n",
    "u10 = 10\n",
    "cd = 1.25e-3\n",
    "rhoa = 1.225\n",
    "rhoo = 1026\n",
    "tau = rhoa/rhoo*cd*u10*u10\n",
    "ustar = np.sqrt(tau)\n",
    "amplitude = 1.13\n",
    "wavelength = 60\n",
    "wavenumber = 2.*np.pi/wavelength\n",
    "frequency = np.sqrt(g*wavenumber*np.tanh(wavenumber*H))\n",
    "us0 = amplitude**2*wavenumber\n",
    "la = np.sqrt(ustar/us0)\n",
    "print(la)"
   ]
  },
  {
   "cell_type": "code",
   "execution_count": null,
   "id": "061731ad-ba7c-4e93-afaa-f515f4393c53",
   "metadata": {},
   "outputs": [],
   "source": [
    "# one inertial period (17 hours)\n",
    "startdate1 = '2000-01-02T00:00:00'\n",
    "enddate1 = '2000-01-02T17:00:00'\n",
    "tslice1 = slice(startdate1, enddate1)\n",
    "startdate2 = '2000-01-06T00:00:00'\n",
    "enddate2 = '2000-01-06T17:00:00'\n",
    "tslice2 = slice(startdate2, enddate2)"
   ]
  },
  {
   "cell_type": "code",
   "execution_count": null,
   "id": "1e911e31-a139-458a-beb0-cf4b6c544f04",
   "metadata": {},
   "outputs": [],
   "source": [
    "def cmp_da(da0, da1, da2, var, units, levels, cmap, depth=-30):\n",
    "\n",
    "    if units == 'unitless':\n",
    "        xlabel = var\n",
    "    else:\n",
    "        xlabel = var+' ['+units+']'\n",
    "    rlcolor = {\n",
    "        'viridis': 'w',\n",
    "        'RdBu_r': 'k',\n",
    "              }\n",
    "    fig1, axarr = plt.subplots(3, 1, sharex='col')\n",
    "    fig1.set_size_inches([7, 7])\n",
    "    da0.plot(ax=axarr[0], levels=levels, cmap=cmap, cbar_kwargs={'label': xlabel})\n",
    "    da1.plot(ax=axarr[1], levels=levels, cmap=cmap, cbar_kwargs={'label': xlabel})\n",
    "    da2.plot(ax=axarr[2], levels=levels, cmap=cmap, cbar_kwargs={'label': xlabel})\n",
    "    for j in np.arange(3):\n",
    "        axarr[j].set_ylim([depth, 0])\n",
    "        axarr[j].set_xlabel('')\n",
    "        axarr[j].set_title('')\n",
    "        axarr[j].set_ylabel('Depth [m]')\n",
    "        axarr[j].axvline(x=pd.Timestamp(startdate1), linestyle=':', color=rlcolor[cmap])\n",
    "        axarr[j].axvline(x=pd.Timestamp(enddate1),   linestyle=':', color=rlcolor[cmap])\n",
    "        axarr[j].axvline(x=pd.Timestamp(startdate2), linestyle=':', color=rlcolor[cmap])\n",
    "        axarr[j].axvline(x=pd.Timestamp(enddate2),   linestyle=':', color=rlcolor[cmap])\n",
    "        axarr[j].text(pd.Timestamp(startdate1), 0, 'T1', va='bottom', ha='left')\n",
    "        axarr[j].text(pd.Timestamp(startdate2), 0, 'T2', va='bottom', ha='left')\n",
    "    plt.tight_layout()\n",
    "\n",
    "    fig2, axarr2 = plt.subplots(1, 2, sharey='row')\n",
    "    fig2.set_size_inches([6,3])\n",
    "    da0.sel(time=tslice1).mean(dim='time').plot(ax=axarr2[0], y=da0.dims[0], color='k', linestyle='-', label='LES')\n",
    "    da1.sel(time=tslice1).mean(dim='time').plot(ax=axarr2[0], y=da1.dims[0], color='k', linestyle='--', label='GOTM')\n",
    "    da2.sel(time=tslice1).mean(dim='time').plot(ax=axarr2[0], y=da2.dims[0], color='k', linestyle=':', label='GOTM-R')\n",
    "    da0.sel(time=tslice2).mean(dim='time').plot(ax=axarr2[1], y=da0.dims[0], color='k', linestyle='-', label='LES')\n",
    "    da1.sel(time=tslice2).mean(dim='time').plot(ax=axarr2[1], y=da1.dims[0], color='k', linestyle='--', label='GOTM')\n",
    "    da2.sel(time=tslice2).mean(dim='time').plot(ax=axarr2[1], y=da2.dims[0], color='k', linestyle=':', label='GOTM-R')\n",
    "    vmin = np.min(levels)\n",
    "    vmax = np.max(levels)\n",
    "    ylabel = ['Depth [m]', '']\n",
    "    title = ['Time averaged T1', 'Time averaged T2']\n",
    "    for j in np.arange(2):\n",
    "        axarr2[j].set_ylim([depth, 0])\n",
    "        axarr2[j].set_xlim([vmin, vmax])\n",
    "        axarr2[j].set_xlabel(xlabel)\n",
    "        axarr2[j].set_ylabel(ylabel[j])\n",
    "        axarr2[j].set_title(title[j])\n",
    "        axarr2[j].legend()\n",
    "    plt.tight_layout()\n",
    "    \n",
    "    \n",
    "def plot_mean_fields(var, units, levels, cmap, lesvar, gotmvar, lesshift=0, scale=1):\n",
    "    if lesvar == 'tke':\n",
    "        da0 = (0.5*(les_ds.data_vars['uu']+les_ds.data_vars['vv']+les_ds.data_vars['ww'].interp(zi=les_ds.z))+lesshift)*scale\n",
    "    else:\n",
    "        da0 = (les_ds.data_vars[lesvar]+lesshift)*scale\n",
    "    if gotmvar == 'u':\n",
    "        da1 = (gotm_ds1.data_vars[gotmvar]+gotm_ds1.data_vars['us']).squeeze()*scale\n",
    "        da2 = (gotm_ds2.data_vars[gotmvar]+gotm_ds2.data_vars['us']).squeeze()*scale\n",
    "    elif gotmvar == 'v':\n",
    "        da1 = (gotm_ds1.data_vars[gotmvar]+gotm_ds1.data_vars['vs']).squeeze()*scale\n",
    "        da2 = (gotm_ds2.data_vars[gotmvar]+gotm_ds2.data_vars['vs']).squeeze()*scale\n",
    "    else:\n",
    "        da1 = gotm_ds1.data_vars[gotmvar].squeeze()*scale\n",
    "        da2 = gotm_ds2.data_vars[gotmvar].squeeze()*scale\n",
    "    for da in [da0, da1, da2]:\n",
    "        da.attrs['long_name'] = var\n",
    "        da.attrs['units'] = units\n",
    "    cmp_da(da0, da1, da2, var, units, levels, cmap)\n",
    "\n",
    "\n",
    "def get_flux(lam, num, gam):\n",
    "    tmp = xr.zeros_like(num)\n",
    "    nt = lam.shape[1]\n",
    "    for i in np.arange(nt):\n",
    "        tmp.data[1:-1,i] = (lam.data[:-1,i]-lam.data[1:,i])/(lam.z.data[:-1]-lam.z.data[1:])\n",
    "    flux = - num * tmp + gam\n",
    "    return flux\n",
    "    \n",
    "    \n",
    "def plot_turbulent_flux(var, units, levels, cmap, lesvar1, lesvar2, gotmvar1, gotmvar2, gotmvar3, gotmvar4=None, gotmvar5=None, scale=1):\n",
    "    da0 = (les_ds.data_vars[lesvar1]+les_ds.data_vars[lesvar2])*scale\n",
    "    da1 = get_flux(gotm_ds1.data_vars[gotmvar1].squeeze(),\n",
    "                   gotm_ds1.data_vars[gotmvar2].squeeze(),\n",
    "                   gotm_ds1.data_vars[gotmvar3].squeeze())*scale\n",
    "    da2 = get_flux(gotm_ds2.data_vars[gotmvar1].squeeze(),\n",
    "                   gotm_ds2.data_vars[gotmvar2].squeeze(),\n",
    "                   gotm_ds2.data_vars[gotmvar3].squeeze())*scale\n",
    "    if (gotmvar4 is not None) and (gotmvar5 is not None):\n",
    "        da1 -= gotm_ds1.data_vars[gotmvar4].squeeze()*gotm_ds1.data_vars[gotmvar5].squeeze()*scale\n",
    "        da2 -= gotm_ds2.data_vars[gotmvar4].squeeze()*gotm_ds2.data_vars[gotmvar5].squeeze()*scale\n",
    "    for da in [da0, da1, da2]:\n",
    "        da.attrs['long_name'] = var\n",
    "        da.attrs['units'] = units\n",
    "    cmp_da(da0, da1, da2, var, units, levels, cmap)"
   ]
  },
  {
   "cell_type": "code",
   "execution_count": null,
   "id": "e85b73b7-9001-41e0-a726-0f989b4149a8",
   "metadata": {},
   "outputs": [],
   "source": [
    "# T\n",
    "levels = np.linspace(17, 20, 31)\n",
    "plot_mean_fields('T', '$^\\circ$C', levels, 'viridis', 'T', 'temp')"
   ]
  },
  {
   "cell_type": "code",
   "execution_count": null,
   "id": "0148ae15-e77e-41d7-ba19-95d5f22154fa",
   "metadata": {},
   "outputs": [],
   "source": [
    "# u\n",
    "levels = np.linspace(0, 40, 41)\n",
    "plot_mean_fields('$\\overline{u}/u_*$', 'unitless', levels, 'viridis', 'u', 'u', scale=1/ustar)"
   ]
  },
  {
   "cell_type": "code",
   "execution_count": null,
   "id": "ef16f5ee-315a-4b8e-bae4-1eff437a9c31",
   "metadata": {},
   "outputs": [],
   "source": [
    "# v\n",
    "levels = np.linspace(-15, 15, 31)\n",
    "plot_mean_fields('$\\overline{v}/u_*$', 'unitless', levels, 'RdBu_r', 'v', 'v', scale=1/ustar)"
   ]
  },
  {
   "cell_type": "code",
   "execution_count": null,
   "id": "e26b03ae-4bd2-4e34-86c5-309ebad35cb4",
   "metadata": {},
   "outputs": [],
   "source": [
    "levels = np.linspace(-1.6, 1.6, 41)\n",
    "plot_turbulent_flux('wT', '$10^4*^\\circ$C m/s', levels, 'RdBu_r', 'wt', 'wtsb', 'temp', 'nuh', 'gamh', scale=1e4)"
   ]
  },
  {
   "cell_type": "code",
   "execution_count": null,
   "id": "7bcf5306-102a-4db6-bf70-816d41274365",
   "metadata": {},
   "outputs": [],
   "source": [
    "levels = np.linspace(-2, 2, 41)\n",
    "plot_turbulent_flux('$\\overline{w^\\prime u^\\prime}/u_*^2$', 'unitless', levels, 'RdBu_r', 'wu', 'wusb', 'u', 'num', 'gamu', 'dusdz', 'nucl', scale=1/ustar**2)"
   ]
  },
  {
   "cell_type": "code",
   "execution_count": null,
   "id": "21ce6c3b-4e6a-482f-a168-0d7648f71798",
   "metadata": {},
   "outputs": [],
   "source": [
    "levels = np.linspace(-1.2, 1.2, 41)\n",
    "# levels = None\n",
    "plot_turbulent_flux('$\\overline{w^\\prime v^\\prime}/u_*^2$', 'unitless', levels, 'RdBu_r', 'wv', 'wvsb', 'v', 'num', 'gamv', 'dvsdz', 'nucl', scale=1/ustar**2)"
   ]
  },
  {
   "cell_type": "code",
   "execution_count": null,
   "id": "88374dc6-30ed-49dc-b7f7-973d59b80fd0",
   "metadata": {},
   "outputs": [],
   "source": [
    "# uu\n",
    "levels = np.linspace(0, 15, 31)\n",
    "plot_mean_fields('$\\overline{u^\\prime u^\\prime}/u_*^2$', 'unitless', levels, 'viridis', 'uu', 'uu', scale=1/ustar**2)"
   ]
  },
  {
   "cell_type": "code",
   "execution_count": null,
   "id": "a6f684a6-ab94-44a9-9b12-95d7e0b70c4a",
   "metadata": {},
   "outputs": [],
   "source": [
    "# vv\n",
    "levels = np.linspace(0, 15, 31)\n",
    "plot_mean_fields('$\\overline{v^\\prime v^\\prime}/u_*^2$', 'unitless', levels, 'viridis', 'vv', 'vv', scale=1/ustar**2)"
   ]
  },
  {
   "cell_type": "code",
   "execution_count": null,
   "id": "11887501-bab5-4d29-b98a-d3e1dde189cd",
   "metadata": {},
   "outputs": [],
   "source": [
    "# ww\n",
    "levels = np.linspace(0, 6, 31)\n",
    "plot_mean_fields('$\\overline{w^\\prime w^\\prime}/u_*^2$', 'unitless', levels, 'viridis', 'ww', 'ww', scale=1/ustar**2)"
   ]
  },
  {
   "cell_type": "code",
   "execution_count": null,
   "id": "0cceb2cf-38b8-47c4-b332-da812f9477a0",
   "metadata": {},
   "outputs": [],
   "source": [
    "# TKE\n",
    "levels = np.linspace(0, 10, 41)\n",
    "plot_mean_fields('$TKE/u_*^2$', 'unitless', levels, 'viridis', 'tke', 'tke', scale=1/ustar**2)"
   ]
  },
  {
   "cell_type": "code",
   "execution_count": null,
   "id": "5ce09bed-d9bc-46a6-b519-332404f3c254",
   "metadata": {},
   "outputs": [],
   "source": []
  }
 ],
 "metadata": {
  "kernelspec": {
   "display_name": "Python 3",
   "language": "python",
   "name": "python3"
  },
  "language_info": {
   "codemirror_mode": {
    "name": "ipython",
    "version": 3
   },
   "file_extension": ".py",
   "mimetype": "text/x-python",
   "name": "python",
   "nbconvert_exporter": "python",
   "pygments_lexer": "ipython3",
   "version": "3.9.15"
  }
 },
 "nbformat": 4,
 "nbformat_minor": 5
}
