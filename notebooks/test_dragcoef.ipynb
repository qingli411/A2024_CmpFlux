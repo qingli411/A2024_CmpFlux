{
 "cells": [
  {
   "cell_type": "code",
   "execution_count": null,
   "id": "ba0cd4d5-9e65-4d75-ac8d-acd939ff2167",
   "metadata": {},
   "outputs": [],
   "source": [
    "import numpy as np"
   ]
  },
  {
   "cell_type": "code",
   "execution_count": null,
   "id": "ff2a4a72-5342-4be1-89d5-fdbc386740ce",
   "metadata": {},
   "outputs": [],
   "source": [
    "z0b = 0.01\n",
    "kappa = 0.4\n",
    "h = 0.2\n",
    "cd1 = kappa**2/np.log(h/2/z0b)**2\n",
    "cd2 = kappa**2/np.log((h/2+z0b)/z0b)**2\n",
    "cd3 = kappa**2/((h+z0b)/h*np.log((h+z0b)/z0b)-1)\n",
    "print(cd1)\n",
    "print(cd2)\n",
    "print(cd3)"
   ]
  },
  {
   "cell_type": "code",
   "execution_count": null,
   "id": "265ffd2c-bce0-4282-9c12-8499a10d1b13",
   "metadata": {},
   "outputs": [],
   "source": []
  }
 ],
 "metadata": {
  "kernelspec": {
   "display_name": "Python 3",
   "language": "python",
   "name": "python3"
  },
  "language_info": {
   "codemirror_mode": {
    "name": "ipython",
    "version": 3
   },
   "file_extension": ".py",
   "mimetype": "text/x-python",
   "name": "python",
   "nbconvert_exporter": "python",
   "pygments_lexer": "ipython3",
   "version": "3.9.15"
  }
 },
 "nbformat": 4,
 "nbformat_minor": 5
}
