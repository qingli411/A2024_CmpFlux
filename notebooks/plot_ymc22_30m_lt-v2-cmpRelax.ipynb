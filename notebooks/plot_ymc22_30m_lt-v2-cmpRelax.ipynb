{
 "cells": [
  {
   "cell_type": "code",
   "execution_count": null,
   "id": "78b4d19a-8922-4cb3-aa2a-357a08bcf2ba",
   "metadata": {},
   "outputs": [],
   "source": [
    "import os\n",
    "import sys\n",
    "import copy\n",
    "import numpy as np\n",
    "import pandas as pd\n",
    "import xarray as xr\n",
    "import matplotlib.pyplot as plt\n",
    "sys.path.append(os.path.join(os.path.pardir, 'gotmtool'))\n",
    "sys.path.append(os.path.join(os.path.pardir, 'lesview'))\n",
    "from gotmtool import *\n",
    "from lesview import *"
   ]
  },
  {
   "cell_type": "code",
   "execution_count": null,
   "id": "374b8af7-17b3-44a6-9013-7a75b58e7519",
   "metadata": {},
   "outputs": [],
   "source": [
    "casename = 'lsc_ymc22_sbl_bbl_v2'\n",
    "turbmethod1 = 'SMCLT-H15'\n",
    "turbmethod2 = 'SMCLT-KC04'\n",
    "turbmethod3 = 'KPPLT-LF17'\n",
    "\n",
    "datapath = os.path.join(os.path.pardir, 'tests', '{:s}'.format(casename))\n",
    "filepath = os.path.join(datapath, 'averages.jld2')\n",
    "data_pfl = OceananigansDataProfile(filepath=filepath)\n",
    "les_ds = data_pfl.dataset\n",
    "\n",
    "gotm_dir   = os.path.join(os.path.pardir, 'gotm', 'run', '{:s}'.format(casename))\n",
    "gotm_sim1  = Simulation(path=os.path.join(gotm_dir, turbmethod1+'-Rlx'))\n",
    "gotm_sim2  = Simulation(path=os.path.join(gotm_dir, turbmethod2+'-Rlx'))\n",
    "gotm_sim3  = Simulation(path=os.path.join(gotm_dir, turbmethod3+'-Rlx'))\n",
    "gotm_ds1   = gotm_sim1.load_data()\n",
    "gotm_ds2   = gotm_sim2.load_data()\n",
    "gotm_ds3   = gotm_sim3.load_data()"
   ]
  },
  {
   "cell_type": "code",
   "execution_count": null,
   "id": "f02469b5-f23d-4912-99e5-8e61d1d986bc",
   "metadata": {},
   "outputs": [],
   "source": [
    "figpath  = os.path.join(os.path.pardir, 'gotm', 'figure', '{:s}-cmpRlex'.format(casename))\n",
    "os.makedirs(figpath, exist_ok=True)"
   ]
  },
  {
   "cell_type": "code",
   "execution_count": null,
   "id": "841bd444-5af5-4462-82d5-595f2acf44e6",
   "metadata": {},
   "outputs": [],
   "source": [
    "g = 9.81\n",
    "H = 30\n",
    "u10 = 8\n",
    "cd = 1.25e-3\n",
    "rhoa = 1.225\n",
    "rhoo = 1026\n",
    "tau = rhoa/rhoo*cd*u10*u10\n",
    "ustar = np.sqrt(tau)"
   ]
  },
  {
   "cell_type": "code",
   "execution_count": null,
   "id": "061731ad-ba7c-4e93-afaa-f515f4393c53",
   "metadata": {},
   "outputs": [],
   "source": [
    "# one inertial period (17 hours)\n",
    "startdate1 = '2000-01-04T00:00:00'\n",
    "enddate1 = '2000-01-04T17:00:00'\n",
    "tslice1 = slice(startdate1, enddate1)\n",
    "startdate2 = '2000-01-10T00:00:00'\n",
    "enddate2 = '2000-01-10T17:00:00'\n",
    "tslice2 = slice(startdate2, enddate2)\n",
    "startdate3 = '2000-01-12T00:00:00'\n",
    "enddate3 = '2000-01-12T17:00:00'\n",
    "tslice3 = slice(startdate3, enddate3)"
   ]
  },
  {
   "cell_type": "code",
   "execution_count": null,
   "id": "1e911e31-a139-458a-beb0-cf4b6c544f04",
   "metadata": {},
   "outputs": [],
   "source": [
    "def get_flux(lam, num, gam):\n",
    "    tmp = xr.zeros_like(num)\n",
    "    nt = lam.shape[1]\n",
    "    for i in np.arange(nt):\n",
    "        tmp.data[1:-1,i] = (lam.data[:-1,i]-lam.data[1:,i])/(lam.z.data[:-1]-lam.z.data[1:])\n",
    "    flux = - num * tmp + gam\n",
    "    return flux\n"
   ]
  },
  {
   "cell_type": "code",
   "execution_count": null,
   "id": "4dfd9144-971e-4696-87e0-513f129f2b5b",
   "metadata": {},
   "outputs": [],
   "source": [
    "wu_les = (les_ds.data_vars['wu']+les_ds.data_vars['wusb'])/ustar**2\n",
    "ds_list = [gotm_ds1, gotm_ds2, gotm_ds3]\n",
    "wu_gotm = [(get_flux(ds.data_vars['u'].squeeze(), ds.data_vars['num'].squeeze(), ds.data_vars['gamu'].squeeze())\n",
    "      -ds.data_vars['nucl'].squeeze()*ds.data_vars['dusdz'].squeeze())/ustar**2 for ds in ds_list]"
   ]
  },
  {
   "cell_type": "code",
   "execution_count": null,
   "id": "262d6c1e-f1f7-4520-9c05-47dad8a10af5",
   "metadata": {},
   "outputs": [],
   "source": [
    "fig, axarr = plt.subplots(1, 2, sharey='row')\n",
    "fig.set_size_inches([6,3])\n",
    "\n",
    "wu_les.sel(time=tslice1).mean(dim='time').plot(ax=axarr[0], y=wu_les.dims[0], color='k', linestyle='-', label='LES')\n",
    "wu_gotm[0].sel(time=tslice1).mean(dim='time').plot(ax=axarr[0], y=wu_gotm[0].dims[0], color='tab:blue', linestyle='-', label=turbmethod1)\n",
    "wu_gotm[1].sel(time=tslice1).mean(dim='time').plot(ax=axarr[0], y=wu_gotm[1].dims[0], color='tab:red', linestyle='-', label=turbmethod2)\n",
    "wu_gotm[2].sel(time=tslice1).mean(dim='time').plot(ax=axarr[0], y=wu_gotm[2].dims[0], color='tab:purple', linestyle='-', label=turbmethod3)\n",
    "\n",
    "wu_les.sel(time=tslice2).mean(dim='time').plot(ax=axarr[1], y=wu_les.dims[0], color='k', linestyle='-', label='LES')\n",
    "wu_gotm[0].sel(time=tslice2).mean(dim='time').plot(ax=axarr[1], y=wu_gotm[0].dims[0], color='tab:blue', linestyle='-', label=turbmethod1)\n",
    "wu_gotm[1].sel(time=tslice3).mean(dim='time').plot(ax=axarr[1], y=wu_gotm[1].dims[0], color='tab:red', linestyle='-', label=turbmethod2)\n",
    "wu_gotm[2].sel(time=tslice2).mean(dim='time').plot(ax=axarr[1], y=wu_gotm[2].dims[0], color='tab:purple', linestyle='-', label=turbmethod3)\n",
    "\n",
    "ylabel = ['Depth [m]', '']\n",
    "title = ['Time averaged T1', 'Time averaged T2']\n",
    "for j in np.arange(2):\n",
    "    axarr[j].set_ylim([-H, 0])\n",
    "    axarr[j].set_xlim([-2.4, 0.6])\n",
    "    axarr[j].set_xlabel('$\\overline{w^\\prime u^\\prime}/u_*^2$')\n",
    "    axarr[j].set_ylabel(ylabel[j])\n",
    "    axarr[j].set_title(title[j])\n",
    "    axarr[j].axvline(x=0, linestyle='-', color='gray', linewidth=0.5)\n",
    "axarr[0].legend()\n",
    "plt.tight_layout()\n",
    "\n",
    "figname2 = os.path.join(figpath, 'cmp_profile_wu')\n",
    "fig.savefig(figname2, dpi = 300, facecolor='w')"
   ]
  },
  {
   "cell_type": "code",
   "execution_count": null,
   "id": "5ce09bed-d9bc-46a6-b519-332404f3c254",
   "metadata": {},
   "outputs": [],
   "source": []
  }
 ],
 "metadata": {
  "kernelspec": {
   "display_name": "Python 3",
   "language": "python",
   "name": "python3"
  },
  "language_info": {
   "codemirror_mode": {
    "name": "ipython",
    "version": 3
   },
   "file_extension": ".py",
   "mimetype": "text/x-python",
   "name": "python",
   "nbconvert_exporter": "python",
   "pygments_lexer": "ipython3",
   "version": "3.9.15"
  }
 },
 "nbformat": 4,
 "nbformat_minor": 5
}
