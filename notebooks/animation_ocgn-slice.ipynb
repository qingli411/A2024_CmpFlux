{
 "cells": [
  {
   "cell_type": "code",
   "execution_count": null,
   "id": "020a6c34-a071-45d5-b52f-057999fd36b1",
   "metadata": {
    "tags": []
   },
   "outputs": [],
   "source": [
    "import sys\n",
    "import os\n",
    "import matplotlib.pyplot as plt\n",
    "import numpy as np\n",
    "sys.path.append(os.path.join(os.path.pardir, 'lesview'))\n",
    "from lesview import *\n",
    "from lesview.plots import plot_box_slice"
   ]
  },
  {
   "cell_type": "code",
   "execution_count": null,
   "id": "3be1be1b-4d15-4acf-85f1-60e68678cf4a",
   "metadata": {
    "tags": []
   },
   "outputs": [],
   "source": [
    "casename = 'lsc_ymc22_sbl_bbl_v2'\n",
    "datapath = os.path.join(os.path.pardir, 'oceananigans', '{:s}'.format(casename))"
   ]
  },
  {
   "cell_type": "code",
   "execution_count": null,
   "id": "7f0cf68b-a89d-47e1-aef5-1994cdd83498",
   "metadata": {},
   "outputs": [],
   "source": [
    "data_xys = OceananigansDataVolume(filepath=os.path.join(datapath, 'slices_xy.jld2'))\n",
    "data_xyb = OceananigansDataVolume(filepath=os.path.join(datapath, 'slices_xy2.jld2'))\n",
    "data_xz  = OceananigansDataVolume(filepath=os.path.join(datapath, 'slices_xz.jld2'))\n",
    "data_yz  = OceananigansDataVolume(filepath=os.path.join(datapath, 'slices_yz.jld2'))\n",
    "data_yz2 = OceananigansDataVolume(filepath=os.path.join(datapath, 'slices_yz2.jld2'))"
   ]
  },
  {
   "cell_type": "code",
   "execution_count": null,
   "id": "8b45110d-44e4-407f-be3c-4f655140ce99",
   "metadata": {},
   "outputs": [],
   "source": [
    "data_xz.dataset"
   ]
  },
  {
   "cell_type": "code",
   "execution_count": null,
   "id": "0273c7be-6a47-4be1-a9ba-75f99cf8ffb1",
   "metadata": {},
   "outputs": [],
   "source": [
    "var = 'w'\n",
    "itime = 1200\n",
    "levels = np.linspace(-0.04, 0.04, 41)\n",
    "if var == 'u':\n",
    "    U0 = 0.25\n",
    "    if 'rf' in casename:\n",
    "        U0 *= -1\n",
    "    levels += U0\n",
    "\n",
    "da_xys = data_xys.dataset.data_vars[var][0,:,:,:]\n",
    "# da_xyb = data_xyb.dataset.data_vars[var][0,:,:,:]\n",
    "da_xz  = data_xz.dataset.data_vars[var][:,0,:,:]\n",
    "da_yz  = data_yz.dataset.data_vars[var][:,:,0,:]\n",
    "\n",
    "fig = plot_box_slice(da_xz, da_yz, da_xys, -4,  view='top', itime=itime, cmap='RdBu_r', levels=levels)"
   ]
  },
  {
   "cell_type": "code",
   "execution_count": null,
   "id": "43dd8df1-7d28-419d-a42e-662175b3f50c",
   "metadata": {},
   "outputs": [],
   "source": [
    "da_xys = data_xys.dataset.data_vars[var][0,:,:,:]\n",
    "da_xyb = data_xyb.dataset.data_vars[var][0,:,:,:]\n",
    "da_xz  = data_xz.dataset.data_vars[var][:,0,:,:]\n",
    "da_yz  = data_yz.dataset.data_vars[var][:,:,0,:]\n",
    "fig = plot_box_slice(da_xz, da_yz, da_xyb, 3,  view='bottom', itime=itime, cmap='RdBu_r', levels=levels)"
   ]
  },
  {
   "cell_type": "code",
   "execution_count": null,
   "id": "5117e7f4-92d8-4631-a7a7-b7c7d976c3a1",
   "metadata": {},
   "outputs": [],
   "source": [
    "da_xys = data_xys.dataset.data_vars[var][0,:,:,:]\n",
    "da_xyb = data_xyb.dataset.data_vars[var][0,:,:,:]\n",
    "da_xz  = data_xz.dataset.data_vars[var][:,0,:,:]\n",
    "da_yz  = data_yz2.dataset.data_vars[var][:,:,0,:]\n"
   ]
  },
  {
   "cell_type": "code",
   "execution_count": null,
   "id": "be01ef4e-ffda-4979-9fe6-62bbbe2581f1",
   "metadata": {},
   "outputs": [],
   "source": [
    "%%time\n",
    "fig = plot_box_slice(da_xz, da_yz, da_xys, -4, da_xy2=da_xyb, iz2=3, view='both', itime=itime, cmap='RdBu_r', levels=levels)"
   ]
  },
  {
   "cell_type": "code",
   "execution_count": null,
   "id": "cbe6cb02-17bd-4bf6-9259-15ed70e69f54",
   "metadata": {},
   "outputs": [],
   "source": [
    "var = 'w'\n",
    "view = 'both'\n",
    "levels = np.linspace(-0.04, 0.04, 41)\n",
    "mp4dir = 'animation_{:s}-{:s}'.format(casename, view)\n",
    "os.makedirs(mp4dir, exist_ok=True)\n",
    "\n",
    "da_xys = data_xys.dataset.data_vars[var][0,:,:,:]\n",
    "da_xyb = data_xyb.dataset.data_vars[var][0,:,:,:]\n",
    "da_xz  = data_xz.dataset.data_vars[var][:,0,:,:]\n",
    "da_yz  = data_yz2.dataset.data_vars[var][:,:,0,:]\n",
    "\n",
    "for itime in np.arange(da_xz.time.size):\n",
    "    fig = plot_box_slice(da_xz, da_yz, da_xys, -4, da_xy2=da_xyb, iz2=3, view=view, itime=itime, cmap='RdBu_r', levels=levels)\n",
    "    figname = os.path.join(mp4dir, '{:s}_{:06d}'.format(var, itime))\n",
    "    plt.tight_layout()\n",
    "    fig.savefig(figname, dpi = 300, facecolor='w')\n",
    "    fig.clear()\n",
    "    plt.close(fig)"
   ]
  },
  {
   "cell_type": "code",
   "execution_count": null,
   "id": "23e1ad0c-ad55-481c-9f98-73ba97b1f5d6",
   "metadata": {},
   "outputs": [],
   "source": []
  }
 ],
 "metadata": {
  "kernelspec": {
   "display_name": "Python 3",
   "language": "python",
   "name": "python3"
  },
  "language_info": {
   "codemirror_mode": {
    "name": "ipython",
    "version": 3
   },
   "file_extension": ".py",
   "mimetype": "text/x-python",
   "name": "python",
   "nbconvert_exporter": "python",
   "pygments_lexer": "ipython3",
   "version": "3.9.15"
  }
 },
 "nbformat": 4,
 "nbformat_minor": 5
}
