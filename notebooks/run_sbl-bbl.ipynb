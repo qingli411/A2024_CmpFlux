{
 "cells": [
  {
   "cell_type": "code",
   "execution_count": null,
   "metadata": {},
   "outputs": [],
   "source": [
    "import os\n",
    "import sys\n",
    "import copy\n",
    "import numpy as np\n",
    "import pandas as pd\n",
    "import matplotlib.pyplot as plt\n",
    "sys.path.append(os.path.join(os.path.pardir, 'gotmtool'))\n",
    "from gotmtool import *"
   ]
  },
  {
   "cell_type": "markdown",
   "metadata": {},
   "source": [
    "## Case parameters"
   ]
  },
  {
   "cell_type": "code",
   "execution_count": null,
   "metadata": {},
   "outputs": [],
   "source": [
    "casename = 'lsc_ymc22_sbl_bbl_v2'\n",
    "g = 9.81\n",
    "cd = 1.25e-3\n",
    "rhoa = 1.225\n",
    "rhoo = 1026\n",
    "Omega = 2.*np.pi/86400\n",
    "\n",
    "lat = 45.\n",
    "H = 30.\n",
    "u10 = 8\n",
    "U0 = 0.25\n",
    "if 'rf' in casename:\n",
    "    U0 *= -1.\n",
    "\n",
    "amplitude = 1. # m\n",
    "wavelength = 60. # m\n",
    "tau = rhoa * cd * u10 * u10\n",
    "\n",
    "f = 2*Omega*np.sin(np.deg2rad(lat))\n",
    "dpdy = -f*U0\n",
    "dhdy = float(dpdy/g)"
   ]
  },
  {
   "cell_type": "markdown",
   "metadata": {},
   "source": [
    "### Stokes drift\n",
    "\n",
    "Stokes drift in shallow water of depth $H$ is\n",
    "$$\n",
    "u_s = U_s\\frac{\\cosh[2k(z+H)]}{2\\sinh^2(kH)}\n",
    "$$\n",
    "where $k$ is the wavenumber, $U_s=\\sigma_w k a_w^2$ is the surface value of Stokes drift, with $\\sigma_w$ the frequency and $a_w$ the amplitude.\n",
    "\n",
    "The vertical shear of this Stokes drift is\n",
    "$$\n",
    "\\frac{d u_s}{dz} = U_s k \\frac{\\sinh[2k(z+H)]}{\\sinh^2(kH)}\n",
    "$$"
   ]
  },
  {
   "cell_type": "code",
   "execution_count": null,
   "metadata": {},
   "outputs": [],
   "source": [
    "def get_stokes_drift(nlev, depth, wavelength, amplitude):\n",
    "    wavenumber = 2. * np.pi / wavelength # 1/m\n",
    "    frequency = np.sqrt(g * wavenumber * np.tanh(wavenumber * depth)) # 1/s\n",
    "    us0 = amplitude**2 * wavenumber * frequency # m/s\n",
    "\n",
    "    zi = -np.linspace(0,depth,nlev+1)\n",
    "    z  = 0.5 * (zi[:-1] + zi[1:])\n",
    "    us = us0 * np.cosh(2. * wavenumber * (z + depth)) / (2. * np.sinh(wavenumber * depth)**2)\n",
    "    us_arr = us.reshape((1, us.size))\n",
    "    vs_arr = np.zeros_like(us_arr)\n",
    "\n",
    "    dusdz = us0 * wavenumber * np.sinh(2. * wavenumber * (zi + depth)) / np.sinh(wavenumber * depth)**2\n",
    "    dusdz_arr = dusdz.reshape((1, dusdz.size))\n",
    "    dvsdz_arr = np.zeros_like(dusdz_arr)\n",
    "    \n",
    "    return us_arr, vs_arr, dusdz_arr, dvsdz_arr, z, zi"
   ]
  },
  {
   "cell_type": "markdown",
   "metadata": {},
   "source": [
    "## Create a model"
   ]
  },
  {
   "cell_type": "code",
   "execution_count": null,
   "metadata": {},
   "outputs": [],
   "source": [
    "m = Model(name='{:s}'.format(casename), environ=os.path.join(os.path.pardir, 'gotmtool', '.gotm_env.yaml'))"
   ]
  },
  {
   "cell_type": "markdown",
   "metadata": {},
   "source": [
    "Take a look at what are defined in the environment file."
   ]
  },
  {
   "cell_type": "code",
   "execution_count": null,
   "metadata": {},
   "outputs": [],
   "source": [
    "for key in m.environ:\n",
    "    print('{:>15s}: {}'.format(key, m.environ[key]) )"
   ]
  },
  {
   "cell_type": "markdown",
   "metadata": {},
   "source": [
    "## Build the model"
   ]
  },
  {
   "cell_type": "code",
   "execution_count": null,
   "metadata": {},
   "outputs": [],
   "source": [
    "%%time\n",
    "m.build()"
   ]
  },
  {
   "cell_type": "markdown",
   "metadata": {},
   "source": [
    "## Configuration\n",
    "Initialize the GOTM configuration"
   ]
  },
  {
   "cell_type": "code",
   "execution_count": null,
   "metadata": {},
   "outputs": [],
   "source": [
    "cfg = m.init_config()"
   ]
  },
  {
   "cell_type": "markdown",
   "metadata": {},
   "source": [
    "Update the configuration"
   ]
  },
  {
   "cell_type": "code",
   "execution_count": null,
   "metadata": {},
   "outputs": [],
   "source": [
    "# setup\n",
    "title = 'Merging boundary layers'\n",
    "cfg['title'] = title\n",
    "cfg['location']['name'] = 'Idealized'\n",
    "cfg['location']['latitude'] = lat\n",
    "cfg['location']['longitude'] = 0.0\n",
    "cfg['location']['depth'] = H\n",
    "cfg['time']['start'] = '2000-01-01 00:00:00'\n",
    "cfg['time']['stop']  = '2000-01-13 00:00:00'\n",
    "cfg['time']['dt']    = 60.0\n",
    "\n",
    "# output\n",
    "cfg['output'] = {}\n",
    "cfg['output']['gotm_out'] = {}\n",
    "cfg['output']['gotm_out']['use'] = True\n",
    "cfg['output']['gotm_out']['title'] = title\n",
    "cfg['output']['gotm_out']['time_unit'] = 'dt'\n",
    "cfg['output']['gotm_out']['time_step'] = 3\n",
    "cfg['output']['gotm_out']['variables'] = [{}]\n",
    "cfg['output']['gotm_out']['variables'][0]['source'] = '*'\n",
    "\n",
    "# forcing\n",
    "datadir = os.path.join(m.environ['gotmdir_data'], casename)\n",
    "cfg['temperature']['method'] = 'file'\n",
    "cfg['temperature']['file'] = os.path.join(datadir, 't_prof.dat')\n",
    "cfg['temperature']['type'] = 'conservative'\n",
    "cfg['salinity']['method'] = 'constant'\n",
    "cfg['salinity']['constant_value'] = 35.0\n",
    "cfg['surface']['fluxes']['heat']['method'] = 'constant'\n",
    "cfg['surface']['fluxes']['heat']['constant_value'] = 0.0\n",
    "cfg['surface']['fluxes']['tx']['method'] = 'constant'\n",
    "cfg['surface']['fluxes']['tx']['constant_value'] = tau\n",
    "cfg['surface']['fluxes']['ty']['method'] = 'constant'\n",
    "cfg['surface']['fluxes']['ty']['constant_value'] = 0.0\n",
    "cfg['surface']['swr']['method'] = 'constant'\n",
    "cfg['surface']['precip']['method'] = 'constant'\n",
    "cfg['mimic_3d']['ext_pressure']['type'] = 'elevation'\n",
    "cfg['mimic_3d']['ext_pressure']['dpdy']['method'] = 'constant'\n",
    "cfg['mimic_3d']['ext_pressure']['dpdy']['constant_value'] = dhdy\n",
    "cfg['bottom']['h0b'] = 0.3333\n",
    "cfg['velocities']['u']['method'] = 'file'\n",
    "cfg['velocities']['u']['column'] = 1\n",
    "cfg['velocities']['v']['method'] = 'file'\n",
    "cfg['velocities']['v']['column'] = 2\n",
    "\n",
    "# Stokes drift\n",
    "cfg['waves']['stokes_drift']['us']['method'] = 'file'\n",
    "cfg['waves']['stokes_drift']['vs']['method'] = 'file'\n",
    "cfg['waves']['stokes_drift']['us']['file'] = 'us_prof.dat'\n",
    "cfg['waves']['stokes_drift']['us']['column'] = 1\n",
    "cfg['waves']['stokes_drift']['vs']['file'] = 'us_prof.dat'\n",
    "cfg['waves']['stokes_drift']['vs']['column'] = 2\n",
    "cfg['waves']['stokes_drift']['dusdz']['method'] = 'file'\n",
    "cfg['waves']['stokes_drift']['dvsdz']['method'] = 'file'\n",
    "cfg['waves']['stokes_drift']['dusdz']['file'] = 'dusdz_prof.dat'\n",
    "cfg['waves']['stokes_drift']['dusdz']['column'] = 1\n",
    "cfg['waves']['stokes_drift']['dvsdz']['file'] = 'dusdz_prof.dat'\n",
    "cfg['waves']['stokes_drift']['dvsdz']['column'] = 2\n",
    "\n",
    "# EOS -- use linear\n",
    "cfg['equation_of_state']['method'] = 'linear_custom'\n",
    "cfg['equation_of_state']['rho0'] = rhoo\n",
    "cfg['equation_of_state']['linear']['T0'] = 20.0\n",
    "cfg['equation_of_state']['linear']['S0'] = 35.0\n",
    "cfg['equation_of_state']['linear']['alpha'] = 2.0e-4\n",
    "cfg['equation_of_state']['linear']['beta'] = 8.0e-4\n",
    "cfg['equation_of_state']['linear']['cp'] = 3991.0\n",
    "\n",
    "# water type (Jerlov IB)\n",
    "cfg['light_extinction']['method'] = 'jerlov-ib'\n",
    "\n",
    "# Ignore molecular diffusion\n",
    "cfg['physical_constants']['avmolu'] = 0.0\n",
    "cfg['physical_constants']['avmolt'] = 0.0\n",
    "cfg['physical_constants']['avmols'] = 0.0"
   ]
  },
  {
   "cell_type": "markdown",
   "metadata": {},
   "source": [
    "### Turbulence closure scheme\n"
   ]
  },
  {
   "cell_type": "code",
   "execution_count": null,
   "metadata": {},
   "outputs": [],
   "source": [
    "# collect the configurations and the labels of the two runs\n",
    "cfgs = []\n",
    "labels = []"
   ]
  },
  {
   "cell_type": "code",
   "execution_count": null,
   "metadata": {},
   "outputs": [],
   "source": [
    "turbmethods = ['KPPLT-LF17', 'KPPLT-LF17-E', 'SMCLT-H15', 'SMCLT-KC04']\n",
    "nlevels = [18, 36, 72, 144, 288]\n",
    "trelax = [0., 60., 600., 3600.]\n",
    "\n",
    "runs = []\n",
    "for turbmethod in turbmethods:\n",
    "    for nlevel in nlevels:\n",
    "        if nlevel == 144:\n",
    "            for trlx in trelax:\n",
    "                run = '{:s}_L{:g}_Rlx{:g}'.format(turbmethod, nlevel, trlx)\n",
    "                runs.append(run)\n",
    "        else:\n",
    "            trlx = 0.\n",
    "            run = '{:s}_L{:g}_Rlx{:g}'.format(turbmethod, nlevel, trlx)\n",
    "            runs.append(run)\n",
    "print(runs)"
   ]
  },
  {
   "cell_type": "code",
   "execution_count": null,
   "metadata": {},
   "outputs": [],
   "source": [
    "stokesdrift = {}\n",
    "for nlevel in nlevels:\n",
    "    stokesdrift['L{:g}'.format(nlevel)] = get_stokes_drift(nlevel, H, wavelength, amplitude)"
   ]
  },
  {
   "cell_type": "code",
   "execution_count": null,
   "metadata": {},
   "outputs": [],
   "source": [
    "def set_gotm_turbmethod(cfg, turbmethod):\n",
    "    if turbmethod == 'KPPLT-LF17':\n",
    "        cfg['turbulence']['turb_method'] = 'cvmix'\n",
    "        cfg['cvmix']['surface_layer']['use'] = True\n",
    "        cfg['cvmix']['surface_layer']['langmuir_method'] = 'lf17'\n",
    "        cfg['cvmix']['bottom_layer']['use'] = True\n",
    "        cfg['cvmix']['interior']['use'] = True\n",
    "        cfg['cvmix']['interior']['background']['use'] = True\n",
    "        cfg['cvmix']['interior']['shear']['use'] = True\n",
    "    elif turbmethod == 'KPPLT-LF17-E':\n",
    "        cfg['turbulence']['turb_method'] = 'cvmix'\n",
    "        cfg['cvmix']['surface_layer']['use'] = True\n",
    "        cfg['cvmix']['surface_layer']['langmuir_method'] = 'lf17'\n",
    "        cfg['cvmix']['bottom_layer']['use'] = True\n",
    "        cfg['cvmix']['interior']['use'] = True\n",
    "        cfg['cvmix']['interior']['background']['use'] = True\n",
    "        cfg['cvmix']['interior']['shear']['use'] = True\n",
    "    elif turbmethod == 'SMCLT-H15':\n",
    "        cfg['turbulence']['turb_method'] = 'second_order'\n",
    "        cfg['turbulence']['tke_method'] = 'mellor_yamada'\n",
    "        cfg['turbulence']['len_scale_method'] = 'mellor_yamada'\n",
    "        cfg['turbulence']['scnd']['method'] =  'quasi_eq_h15'\n",
    "        cfg['turbulence']['scnd']['scnd_coeff'] =  'kantha_clayson'\n",
    "        cfg['turbulence']['turb_param']['length_lim'] = 'false'\n",
    "        cfg['turbulence']['turb_param']['compute_c3'] = 'false'\n",
    "        cfg['turbulence']['my']['e3'] = 5.0\n",
    "        cfg['turbulence']['my']['e6'] = 6.0\n",
    "    elif turbmethod == 'SMCLT-KC04':\n",
    "        cfg['turbulence']['turb_method'] = 'second_order'\n",
    "        cfg['turbulence']['tke_method'] = 'mellor_yamada'\n",
    "        cfg['turbulence']['len_scale_method'] = 'mellor_yamada'\n",
    "        cfg['turbulence']['scnd']['method'] =  'quasi_eq'\n",
    "        cfg['turbulence']['scnd']['scnd_coeff'] =  'kantha_clayson'\n",
    "        cfg['turbulence']['turb_param']['length_lim'] = 'false'\n",
    "        cfg['turbulence']['turb_param']['compute_c3'] = 'false'\n",
    "        cfg['turbulence']['my']['e3'] = 5.0\n",
    "        cfg['turbulence']['my']['e6'] = 6.0\n",
    "    else:\n",
    "        raise ValueError('Unknown turbulence closure method: {:s}'.format(turbmethod))\n",
    "    if turbmethod == 'KPPLT-LF17':\n",
    "        cfg['waves']['stokes_drift']['coriolis_stokes_force'] = False\n",
    "        cfg['velocities']['u']['file'] = os.path.join(datadir, 'u_prof_l.dat')\n",
    "        cfg['velocities']['v']['file'] = os.path.join(datadir, 'u_prof_l.dat')\n",
    "    else:\n",
    "        cfg['waves']['stokes_drift']['coriolis_stokes_force'] = True\n",
    "        cfg['velocities']['u']['file'] = os.path.join(datadir, 'u_prof_e.dat')\n",
    "        cfg['velocities']['v']['file'] = os.path.join(datadir, 'u_prof_e.dat')   \n",
    "    return cfg\n",
    "\n",
    "def set_gotm_relax(cfg, trlx):\n",
    "    if trlx == 0.0:\n",
    "        cfg['temperature']['relax']['tau'] = 1.0e15\n",
    "        cfg['velocities']['relax']['tau'] = 1.0e15\n",
    "    else:\n",
    "        cfg['temperature']['relax']['tau'] = trlx\n",
    "        cfg['velocities']['relax']['tau'] = trlx\n",
    "    return cfg"
   ]
  },
  {
   "cell_type": "code",
   "execution_count": null,
   "metadata": {},
   "outputs": [],
   "source": [
    "timeSD =  pd.date_range(cfg['time']['start'], freq='D', periods=1)\n",
    "timeSD"
   ]
  },
  {
   "cell_type": "code",
   "execution_count": null,
   "metadata": {},
   "outputs": [],
   "source": [
    "for run in runs:\n",
    "    print(run)\n",
    "    turbmethod, levstr, rlxstr = run.split('_')\n",
    "    nlev = int(levstr[1:])\n",
    "    rlx = float(rlxstr[3:])\n",
    "    cfg['grid']['nlev']  = nlev\n",
    "    cfg['output']['gotm_out']['k1_stop'] = nlev+1\n",
    "    cfg['output']['gotm_out']['k_stop'] = nlev\n",
    "    cfg = set_gotm_turbmethod(cfg, turbmethod)\n",
    "    cfg = set_gotm_relax(cfg, rlx)\n",
    "    cfgs.append(copy.deepcopy(cfg))\n",
    "    labels.append(run)\n",
    "    # dump Stokes drift\n",
    "    us_arr, vs_arr, dusdz_arr, dvsdz_arr, z, zi = stokesdrift[levstr]\n",
    "    run_dir = os.path.join(m.environ['gotmdir_run'], m.name, run)\n",
    "    # print('Writing Stokes drift profile to {:}'.format(run_dir))\n",
    "    os.makedirs(run_dir, exist_ok=True)\n",
    "    dat_dump_pfl(timeSD, z, [us_arr, vs_arr], os.path.join(run_dir, 'us_prof.dat'))\n",
    "    dat_dump_pfl(timeSD, zi, [dusdz_arr, dvsdz_arr], os.path.join(run_dir, 'dusdz_prof.dat'))\n",
    "    "
   ]
  },
  {
   "cell_type": "markdown",
   "metadata": {},
   "source": [
    "## Run the model"
   ]
  },
  {
   "cell_type": "code",
   "execution_count": null,
   "metadata": {},
   "outputs": [],
   "source": [
    "%%time\n",
    "sims = m.run_batch(configs=cfgs, labels=labels, nproc=16)"
   ]
  },
  {
   "cell_type": "code",
   "execution_count": null,
   "metadata": {},
   "outputs": [],
   "source": []
  }
 ],
 "metadata": {
  "kernelspec": {
   "display_name": "Python 3",
   "language": "python",
   "name": "python3"
  },
  "language_info": {
   "codemirror_mode": {
    "name": "ipython",
    "version": 3
   },
   "file_extension": ".py",
   "mimetype": "text/x-python",
   "name": "python",
   "nbconvert_exporter": "python",
   "pygments_lexer": "ipython3",
   "version": "3.9.15"
  }
 },
 "nbformat": 4,
 "nbformat_minor": 4
}
