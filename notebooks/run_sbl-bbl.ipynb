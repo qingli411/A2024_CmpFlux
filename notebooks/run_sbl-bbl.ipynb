{
 "cells": [
  {
   "cell_type": "code",
   "execution_count": 1,
   "metadata": {},
   "outputs": [],
   "source": [
    "import os\n",
    "import sys\n",
    "import copy\n",
    "import numpy as np\n",
    "import pandas as pd\n",
    "import matplotlib.pyplot as plt\n",
    "sys.path.append(os.path.join(os.path.pardir, 'gotmtool'))\n",
    "from gotmtool import *"
   ]
  },
  {
   "cell_type": "markdown",
   "metadata": {},
   "source": [
    "## Case parameters"
   ]
  },
  {
   "cell_type": "code",
   "execution_count": 2,
   "metadata": {},
   "outputs": [],
   "source": [
    "casename = 'lsc_ymc22_sbl_bbl_v2_rf'\n",
    "g = 9.81\n",
    "cd = 1.25e-3\n",
    "rhoa = 1.225\n",
    "rhoo = 1026\n",
    "Omega = 2.*np.pi/86400\n",
    "\n",
    "lat = 45.\n",
    "H = 30.\n",
    "u10 = 8\n",
    "U0 = 0.25\n",
    "if 'rf' in casename:\n",
    "    U0 *= -1.\n",
    "\n",
    "amplitude = 1. # m\n",
    "wavelength = 60. # m\n",
    "tau = rhoa * cd * u10 * u10\n",
    "\n",
    "f = 2*Omega*np.sin(np.deg2rad(lat))\n",
    "dpdy = -f*U0\n",
    "dhdy = float(dpdy/g)"
   ]
  },
  {
   "cell_type": "markdown",
   "metadata": {},
   "source": [
    "### Stokes drift\n",
    "\n",
    "Stokes drift in shallow water of depth $H$ is\n",
    "$$\n",
    "u_s = U_s\\frac{\\cosh[2k(z+H)]}{2\\sinh^2(kH)}\n",
    "$$\n",
    "where $k$ is the wavenumber, $U_s=\\sigma_w k a_w^2$ is the surface value of Stokes drift, with $\\sigma_w$ the frequency and $a_w$ the amplitude.\n",
    "\n",
    "The vertical shear of this Stokes drift is\n",
    "$$\n",
    "\\frac{d u_s}{dz} = U_s k \\frac{\\sinh[2k(z+H)]}{\\sinh^2(kH)}\n",
    "$$"
   ]
  },
  {
   "cell_type": "code",
   "execution_count": 3,
   "metadata": {},
   "outputs": [],
   "source": [
    "def get_stokes_drift(nlev, depth, wavelength, amplitude):\n",
    "    wavenumber = 2. * np.pi / wavelength # 1/m\n",
    "    frequency = np.sqrt(g * wavenumber * np.tanh(wavenumber * depth)) # 1/s\n",
    "    us0 = amplitude**2 * wavenumber * frequency # m/s\n",
    "\n",
    "    zi = -np.linspace(0,depth,nlev+1)\n",
    "    z  = 0.5 * (zi[:-1] + zi[1:])\n",
    "    us = us0 * np.cosh(2. * wavenumber * (z + depth)) / (2. * np.sinh(wavenumber * depth)**2)\n",
    "    us_arr = us.reshape((1, us.size))\n",
    "    vs_arr = np.zeros_like(us_arr)\n",
    "\n",
    "    dusdz = us0 * wavenumber * np.sinh(2. * wavenumber * (zi + depth)) / np.sinh(wavenumber * depth)**2\n",
    "    dusdz_arr = dusdz.reshape((1, dusdz.size))\n",
    "    dvsdz_arr = np.zeros_like(dusdz_arr)\n",
    "    \n",
    "    return us_arr, vs_arr, dusdz_arr, dvsdz_arr, z, zi"
   ]
  },
  {
   "cell_type": "markdown",
   "metadata": {},
   "source": [
    "## Create a model"
   ]
  },
  {
   "cell_type": "code",
   "execution_count": 4,
   "metadata": {},
   "outputs": [],
   "source": [
    "m = Model(name='{:s}'.format(casename), environ=os.path.join(os.path.pardir, 'gotmtool', '.gotm_env.yaml'))"
   ]
  },
  {
   "cell_type": "markdown",
   "metadata": {},
   "source": [
    "Take a look at what are defined in the environment file."
   ]
  },
  {
   "cell_type": "code",
   "execution_count": 5,
   "metadata": {},
   "outputs": [
    {
     "name": "stdout",
     "output_type": "stream",
     "text": [
      "   gotmdir_code: /data1/scratch/qingli/project/A2024_CmpFlux/gotm/code\n",
      "   gotmdir_data: /data1/scratch/qingli/project/A2024_CmpFlux/gotm/data\n",
      "  gotmdir_build: /data1/scratch/qingli/project/A2024_CmpFlux/gotm/build\n",
      "    gotmdir_exe: /data1/scratch/qingli/project/A2024_CmpFlux/gotm/exe\n",
      "    gotmdir_run: /data1/scratch/qingli/project/A2024_CmpFlux/gotm/run\n",
      " gotmdir_figure: /data1/scratch/qingli/project/A2024_CmpFlux/gotm/figure\n",
      "   gotmdir_tool: /data1/scratch/qingli/project/A2024_CmpFlux/gotmtool\n"
     ]
    }
   ],
   "source": [
    "for key in m.environ:\n",
    "    print('{:>15s}: {}'.format(key, m.environ[key]) )"
   ]
  },
  {
   "cell_type": "markdown",
   "metadata": {},
   "source": [
    "## Build the model"
   ]
  },
  {
   "cell_type": "code",
   "execution_count": 6,
   "metadata": {},
   "outputs": [
    {
     "name": "stdout",
     "output_type": "stream",
     "text": [
      "\u001b[94mWARNING: GOTM is updated. Skipping the build step. Use 'clean=True' to rebuild\u001b[0m\n",
      "CPU times: user 9.07 ms, sys: 45.7 ms, total: 54.8 ms\n",
      "Wall time: 127 ms\n"
     ]
    }
   ],
   "source": [
    "%%time\n",
    "m.build()"
   ]
  },
  {
   "cell_type": "markdown",
   "metadata": {},
   "source": [
    "## Configuration\n",
    "Initialize the GOTM configuration"
   ]
  },
  {
   "cell_type": "code",
   "execution_count": 7,
   "metadata": {},
   "outputs": [
    {
     "name": "stdout",
     "output_type": "stream",
     "text": [
      "Generating default configuration at '/data1/scratch/qingli/project/A2024_CmpFlux/gotm/run/lsc_ymc22_sbl_bbl_v2_rf/gotm.yaml'...\n",
      "\u001b[92mDone!\u001b[0m\n"
     ]
    },
    {
     "name": "stderr",
     "output_type": "stream",
     "text": [
      " ------------------------------------------------------------------------\n",
      " GOTM started on 2024/11/21 at 11:09:11\n",
      " ------------------------------------------------------------------------\n",
      "    initialize_gotm\n",
      " ------------------------------------------------------------------------\n",
      "        Reading configuration from: gotm.yaml\n",
      "        configuring modules ....\n",
      "    init_airsea_yaml\n",
      "        done\n",
      "    init_observations_yaml\n",
      "    init_stokes_drift_yaml\n",
      "        done\n",
      "    init_turbulence_yaml\n",
      "        done.\n",
      "    init_cvmix_yaml\n",
      "        done.\n",
      "    init_meanflow_yaml\n",
      "        done\n",
      "    init_eqstate_yaml\n",
      "    init_density()\n",
      "            rho0=     1027.0000000000000     \n",
      "        done.\n",
      " Your configuration has been written to /data1/scratch/qingli/project/A2024_CmpFlux/gotm/run/lsc_ymc22_sbl_bbl_v2_rf/gotm.yaml.\n",
      "STOP 0\n"
     ]
    }
   ],
   "source": [
    "cfg = m.init_config()"
   ]
  },
  {
   "cell_type": "markdown",
   "metadata": {},
   "source": [
    "Update the configuration"
   ]
  },
  {
   "cell_type": "code",
   "execution_count": 8,
   "metadata": {},
   "outputs": [],
   "source": [
    "# setup\n",
    "title = 'Merging boundary layers'\n",
    "cfg['title'] = title\n",
    "cfg['location']['name'] = 'Idealized'\n",
    "cfg['location']['latitude'] = lat\n",
    "cfg['location']['longitude'] = 0.0\n",
    "cfg['location']['depth'] = H\n",
    "cfg['time']['start'] = '2000-01-01 00:00:00'\n",
    "cfg['time']['stop']  = '2000-01-13 00:00:00'\n",
    "cfg['time']['dt']    = 60.0\n",
    "\n",
    "\n",
    "# output\n",
    "cfg['output'] = {}\n",
    "cfg['output']['gotm_out'] = {}\n",
    "cfg['output']['gotm_out']['use'] = True\n",
    "cfg['output']['gotm_out']['title'] = title\n",
    "cfg['output']['gotm_out']['time_unit'] = 'dt'\n",
    "cfg['output']['gotm_out']['time_step'] = 3\n",
    "cfg['output']['gotm_out']['variables'] = [{}]\n",
    "cfg['output']['gotm_out']['variables'][0]['source'] = '*'\n",
    "\n",
    "# forcing\n",
    "datadir = os.path.join(m.environ['gotmdir_data'], casename)\n",
    "cfg['temperature']['method'] = 'file'\n",
    "cfg['temperature']['file'] = os.path.join(datadir, 't_prof.dat')\n",
    "cfg['temperature']['type'] = 'conservative'\n",
    "cfg['salinity']['method'] = 'constant'\n",
    "cfg['salinity']['constant_value'] = 35.0\n",
    "cfg['surface']['fluxes']['heat']['method'] = 'constant'\n",
    "cfg['surface']['fluxes']['heat']['constant_value'] = 0.0\n",
    "cfg['surface']['fluxes']['tx']['method'] = 'constant'\n",
    "cfg['surface']['fluxes']['tx']['constant_value'] = tau\n",
    "cfg['surface']['fluxes']['ty']['method'] = 'constant'\n",
    "cfg['surface']['fluxes']['ty']['constant_value'] = 0.0\n",
    "cfg['surface']['swr']['method'] = 'constant'\n",
    "cfg['surface']['precip']['method'] = 'constant'\n",
    "cfg['mimic_3d']['ext_pressure']['type'] = 'elevation'\n",
    "cfg['mimic_3d']['ext_pressure']['dpdy']['method'] = 'constant'\n",
    "cfg['mimic_3d']['ext_pressure']['dpdy']['constant_value'] = dhdy\n",
    "cfg['bottom']['h0b'] = 0.01\n",
    "cfg['velocities']['u']['method'] = 'file'\n",
    "cfg['velocities']['u']['column'] = 1\n",
    "cfg['velocities']['v']['method'] = 'file'\n",
    "cfg['velocities']['v']['column'] = 2\n",
    "\n",
    "# Stokes drift\n",
    "cfg['waves']['stokes_drift']['us']['method'] = 'file'\n",
    "cfg['waves']['stokes_drift']['vs']['method'] = 'file'\n",
    "cfg['waves']['stokes_drift']['us']['file'] = 'us_prof.dat'\n",
    "cfg['waves']['stokes_drift']['us']['column'] = 1\n",
    "cfg['waves']['stokes_drift']['vs']['file'] = 'us_prof.dat'\n",
    "cfg['waves']['stokes_drift']['vs']['column'] = 2\n",
    "cfg['waves']['stokes_drift']['dusdz']['method'] = 'file'\n",
    "cfg['waves']['stokes_drift']['dvsdz']['method'] = 'file'\n",
    "cfg['waves']['stokes_drift']['dusdz']['file'] = 'dusdz_prof.dat'\n",
    "cfg['waves']['stokes_drift']['dusdz']['column'] = 1\n",
    "cfg['waves']['stokes_drift']['dvsdz']['file'] = 'dusdz_prof.dat'\n",
    "cfg['waves']['stokes_drift']['dvsdz']['column'] = 2\n",
    "\n",
    "# EOS -- use linear\n",
    "cfg['equation_of_state']['method'] = 'linear_custom'\n",
    "cfg['equation_of_state']['rho0'] = rhoo\n",
    "cfg['equation_of_state']['linear']['T0'] = 20.0\n",
    "cfg['equation_of_state']['linear']['S0'] = 35.0\n",
    "cfg['equation_of_state']['linear']['alpha'] = 2.0e-4\n",
    "cfg['equation_of_state']['linear']['beta'] = 8.0e-4\n",
    "cfg['equation_of_state']['linear']['cp'] = 3991.0\n",
    "\n",
    "# water type (Jerlov IB)\n",
    "cfg['light_extinction']['method'] = 'jerlov-ib'"
   ]
  },
  {
   "cell_type": "markdown",
   "metadata": {},
   "source": [
    "### Turbulence closure scheme\n"
   ]
  },
  {
   "cell_type": "code",
   "execution_count": 9,
   "metadata": {},
   "outputs": [],
   "source": [
    "# collect the configurations and the labels of the two runs\n",
    "cfgs = []\n",
    "labels = []"
   ]
  },
  {
   "cell_type": "code",
   "execution_count": 10,
   "metadata": {},
   "outputs": [
    {
     "name": "stdout",
     "output_type": "stream",
     "text": [
      "['KPPLT-LF17_L18_Rlx0', 'KPPLT-LF17_L18_Rlx60', 'KPPLT-LF17_L18_Rlx600', 'KPPLT-LF17_L18_Rlx3600', 'KPPLT-LF17_L36_Rlx0', 'KPPLT-LF17_L36_Rlx60', 'KPPLT-LF17_L36_Rlx600', 'KPPLT-LF17_L36_Rlx3600', 'KPPLT-LF17_L72_Rlx0', 'KPPLT-LF17_L72_Rlx60', 'KPPLT-LF17_L72_Rlx600', 'KPPLT-LF17_L72_Rlx3600', 'KPPLT-LF17_L144_Rlx0', 'KPPLT-LF17_L144_Rlx60', 'KPPLT-LF17_L144_Rlx600', 'KPPLT-LF17_L144_Rlx3600', 'KPPLT-LF17_L288_Rlx0', 'KPPLT-LF17_L288_Rlx60', 'KPPLT-LF17_L288_Rlx600', 'KPPLT-LF17_L288_Rlx3600', 'KPPLT-LF17-E_L18_Rlx0', 'KPPLT-LF17-E_L18_Rlx60', 'KPPLT-LF17-E_L18_Rlx600', 'KPPLT-LF17-E_L18_Rlx3600', 'KPPLT-LF17-E_L36_Rlx0', 'KPPLT-LF17-E_L36_Rlx60', 'KPPLT-LF17-E_L36_Rlx600', 'KPPLT-LF17-E_L36_Rlx3600', 'KPPLT-LF17-E_L72_Rlx0', 'KPPLT-LF17-E_L72_Rlx60', 'KPPLT-LF17-E_L72_Rlx600', 'KPPLT-LF17-E_L72_Rlx3600', 'KPPLT-LF17-E_L144_Rlx0', 'KPPLT-LF17-E_L144_Rlx60', 'KPPLT-LF17-E_L144_Rlx600', 'KPPLT-LF17-E_L144_Rlx3600', 'KPPLT-LF17-E_L288_Rlx0', 'KPPLT-LF17-E_L288_Rlx60', 'KPPLT-LF17-E_L288_Rlx600', 'KPPLT-LF17-E_L288_Rlx3600', 'SMCLT-H15_L18_Rlx0', 'SMCLT-H15_L18_Rlx60', 'SMCLT-H15_L18_Rlx600', 'SMCLT-H15_L18_Rlx3600', 'SMCLT-H15_L36_Rlx0', 'SMCLT-H15_L36_Rlx60', 'SMCLT-H15_L36_Rlx600', 'SMCLT-H15_L36_Rlx3600', 'SMCLT-H15_L72_Rlx0', 'SMCLT-H15_L72_Rlx60', 'SMCLT-H15_L72_Rlx600', 'SMCLT-H15_L72_Rlx3600', 'SMCLT-H15_L144_Rlx0', 'SMCLT-H15_L144_Rlx60', 'SMCLT-H15_L144_Rlx600', 'SMCLT-H15_L144_Rlx3600', 'SMCLT-H15_L288_Rlx0', 'SMCLT-H15_L288_Rlx60', 'SMCLT-H15_L288_Rlx600', 'SMCLT-H15_L288_Rlx3600', 'SMCLT-KC04_L18_Rlx0', 'SMCLT-KC04_L18_Rlx60', 'SMCLT-KC04_L18_Rlx600', 'SMCLT-KC04_L18_Rlx3600', 'SMCLT-KC04_L36_Rlx0', 'SMCLT-KC04_L36_Rlx60', 'SMCLT-KC04_L36_Rlx600', 'SMCLT-KC04_L36_Rlx3600', 'SMCLT-KC04_L72_Rlx0', 'SMCLT-KC04_L72_Rlx60', 'SMCLT-KC04_L72_Rlx600', 'SMCLT-KC04_L72_Rlx3600', 'SMCLT-KC04_L144_Rlx0', 'SMCLT-KC04_L144_Rlx60', 'SMCLT-KC04_L144_Rlx600', 'SMCLT-KC04_L144_Rlx3600', 'SMCLT-KC04_L288_Rlx0', 'SMCLT-KC04_L288_Rlx60', 'SMCLT-KC04_L288_Rlx600', 'SMCLT-KC04_L288_Rlx3600']\n"
     ]
    }
   ],
   "source": [
    "turbmethods = ['KPPLT-LF17', 'KPPLT-LF17-E', 'SMCLT-H15', 'SMCLT-KC04']\n",
    "nlevels = [18, 36, 72, 144, 288]\n",
    "trelax = [0., 60., 600., 3600.]\n",
    "\n",
    "runs = []\n",
    "for turbmethod in turbmethods:\n",
    "    for nlevel in nlevels:\n",
    "        for trlx in trelax:\n",
    "            run = '{:s}_L{:g}_Rlx{:g}'.format(turbmethod, nlevel, trlx)\n",
    "            runs.append(run)\n",
    "print(runs)"
   ]
  },
  {
   "cell_type": "code",
   "execution_count": 11,
   "metadata": {},
   "outputs": [],
   "source": [
    "stokesdrift = {}\n",
    "for nlevel in nlevels:\n",
    "    stokesdrift['L{:g}'.format(nlevel)] = get_stokes_drift(nlevel, H, wavelength, amplitude)"
   ]
  },
  {
   "cell_type": "code",
   "execution_count": 12,
   "metadata": {},
   "outputs": [],
   "source": [
    "def set_gotm_turbmethod(cfg, turbmethod):\n",
    "    if turbmethod == 'KPPLT-LF17':\n",
    "        cfg['turbulence']['turb_method'] = 'cvmix'\n",
    "        cfg['cvmix']['surface_layer']['use'] = True\n",
    "        cfg['cvmix']['surface_layer']['langmuir_method'] = 'lf17'\n",
    "        cfg['cvmix']['bottom_layer']['use'] = True\n",
    "        cfg['cvmix']['interior']['use'] = True\n",
    "        cfg['cvmix']['interior']['background']['use'] = True\n",
    "        cfg['cvmix']['interior']['shear']['use'] = True\n",
    "    elif turbmethod == 'KPPLT-LF17-E':\n",
    "        cfg['turbulence']['turb_method'] = 'cvmix'\n",
    "        cfg['cvmix']['surface_layer']['use'] = True\n",
    "        cfg['cvmix']['surface_layer']['langmuir_method'] = 'lf17'\n",
    "        cfg['cvmix']['bottom_layer']['use'] = True\n",
    "        cfg['cvmix']['interior']['use'] = True\n",
    "        cfg['cvmix']['interior']['background']['use'] = True\n",
    "        cfg['cvmix']['interior']['shear']['use'] = True\n",
    "    elif turbmethod == 'SMCLT-H15':\n",
    "        cfg['turbulence']['turb_method'] = 'second_order'\n",
    "        cfg['turbulence']['tke_method'] = 'mellor_yamada'\n",
    "        cfg['turbulence']['len_scale_method'] = 'mellor_yamada'\n",
    "        cfg['turbulence']['scnd']['method'] =  'quasi_eq_h15'\n",
    "        cfg['turbulence']['scnd']['scnd_coeff'] =  'kantha_clayson'\n",
    "        cfg['turbulence']['turb_param']['length_lim'] = 'false'\n",
    "        cfg['turbulence']['turb_param']['compute_c3'] = 'false'\n",
    "        cfg['turbulence']['my']['e3'] = 5.0\n",
    "        cfg['turbulence']['my']['e6'] = 6.0\n",
    "    elif turbmethod == 'SMCLT-KC04':\n",
    "        cfg['turbulence']['turb_method'] = 'second_order'\n",
    "        cfg['turbulence']['tke_method'] = 'mellor_yamada'\n",
    "        cfg['turbulence']['len_scale_method'] = 'mellor_yamada'\n",
    "        cfg['turbulence']['scnd']['method'] =  'quasi_eq'\n",
    "        cfg['turbulence']['scnd']['scnd_coeff'] =  'kantha_clayson'\n",
    "        cfg['turbulence']['turb_param']['length_lim'] = 'false'\n",
    "        cfg['turbulence']['turb_param']['compute_c3'] = 'false'\n",
    "        cfg['turbulence']['my']['e3'] = 5.0\n",
    "        cfg['turbulence']['my']['e6'] = 6.0\n",
    "    else:\n",
    "        raise ValueError('Unknown turbulence closure method: {:s}'.format(turbmethod))\n",
    "    if turbmethod == 'KPPLT-LF17':\n",
    "        cfg['waves']['stokes_drift']['coriolis_stokes_force'] = False\n",
    "        cfg['velocities']['u']['file'] = os.path.join(datadir, 'u_prof_l.dat')\n",
    "        cfg['velocities']['v']['file'] = os.path.join(datadir, 'u_prof_l.dat')\n",
    "    else:\n",
    "        cfg['waves']['stokes_drift']['coriolis_stokes_force'] = True\n",
    "        cfg['velocities']['u']['file'] = os.path.join(datadir, 'u_prof_e.dat')\n",
    "        cfg['velocities']['v']['file'] = os.path.join(datadir, 'u_prof_e.dat')   \n",
    "    return cfg\n",
    "\n",
    "def set_gotm_relax(cfg, trlx):\n",
    "    if trlx == 0.0:\n",
    "        cfg['temperature']['relax']['tau'] = 1.0e15\n",
    "        cfg['velocities']['relax']['tau'] = 1.0e15\n",
    "    else:\n",
    "        cfg['temperature']['relax']['tau'] = trlx\n",
    "        cfg['velocities']['relax']['tau'] = trlx\n",
    "    return cfg"
   ]
  },
  {
   "cell_type": "code",
   "execution_count": 13,
   "metadata": {},
   "outputs": [
    {
     "data": {
      "text/plain": [
       "DatetimeIndex(['2000-01-01'], dtype='datetime64[ns]', freq='D')"
      ]
     },
     "execution_count": 13,
     "metadata": {},
     "output_type": "execute_result"
    }
   ],
   "source": [
    "timeSD =  pd.date_range(cfg['time']['start'], freq='D', periods=1)\n",
    "timeSD"
   ]
  },
  {
   "cell_type": "code",
   "execution_count": 14,
   "metadata": {},
   "outputs": [
    {
     "name": "stdout",
     "output_type": "stream",
     "text": [
      "KPPLT-LF17_L18_Rlx0\n",
      "KPPLT-LF17_L18_Rlx60\n",
      "KPPLT-LF17_L18_Rlx600\n",
      "KPPLT-LF17_L18_Rlx3600\n",
      "KPPLT-LF17_L36_Rlx0\n",
      "KPPLT-LF17_L36_Rlx60\n",
      "KPPLT-LF17_L36_Rlx600\n",
      "KPPLT-LF17_L36_Rlx3600\n",
      "KPPLT-LF17_L72_Rlx0\n",
      "KPPLT-LF17_L72_Rlx60\n",
      "KPPLT-LF17_L72_Rlx600\n",
      "KPPLT-LF17_L72_Rlx3600\n",
      "KPPLT-LF17_L144_Rlx0\n",
      "KPPLT-LF17_L144_Rlx60\n",
      "KPPLT-LF17_L144_Rlx600\n",
      "KPPLT-LF17_L144_Rlx3600\n",
      "KPPLT-LF17_L288_Rlx0\n",
      "KPPLT-LF17_L288_Rlx60\n",
      "KPPLT-LF17_L288_Rlx600\n",
      "KPPLT-LF17_L288_Rlx3600\n",
      "KPPLT-LF17-E_L18_Rlx0\n",
      "KPPLT-LF17-E_L18_Rlx60\n",
      "KPPLT-LF17-E_L18_Rlx600\n",
      "KPPLT-LF17-E_L18_Rlx3600\n",
      "KPPLT-LF17-E_L36_Rlx0\n",
      "KPPLT-LF17-E_L36_Rlx60\n",
      "KPPLT-LF17-E_L36_Rlx600\n",
      "KPPLT-LF17-E_L36_Rlx3600\n",
      "KPPLT-LF17-E_L72_Rlx0\n",
      "KPPLT-LF17-E_L72_Rlx60\n",
      "KPPLT-LF17-E_L72_Rlx600\n",
      "KPPLT-LF17-E_L72_Rlx3600\n",
      "KPPLT-LF17-E_L144_Rlx0\n",
      "KPPLT-LF17-E_L144_Rlx60\n",
      "KPPLT-LF17-E_L144_Rlx600\n",
      "KPPLT-LF17-E_L144_Rlx3600\n",
      "KPPLT-LF17-E_L288_Rlx0\n",
      "KPPLT-LF17-E_L288_Rlx60\n",
      "KPPLT-LF17-E_L288_Rlx600\n",
      "KPPLT-LF17-E_L288_Rlx3600\n",
      "SMCLT-H15_L18_Rlx0\n",
      "SMCLT-H15_L18_Rlx60\n",
      "SMCLT-H15_L18_Rlx600\n",
      "SMCLT-H15_L18_Rlx3600\n",
      "SMCLT-H15_L36_Rlx0\n",
      "SMCLT-H15_L36_Rlx60\n",
      "SMCLT-H15_L36_Rlx600\n",
      "SMCLT-H15_L36_Rlx3600\n",
      "SMCLT-H15_L72_Rlx0\n",
      "SMCLT-H15_L72_Rlx60\n",
      "SMCLT-H15_L72_Rlx600\n",
      "SMCLT-H15_L72_Rlx3600\n",
      "SMCLT-H15_L144_Rlx0\n",
      "SMCLT-H15_L144_Rlx60\n",
      "SMCLT-H15_L144_Rlx600\n",
      "SMCLT-H15_L144_Rlx3600\n",
      "SMCLT-H15_L288_Rlx0\n",
      "SMCLT-H15_L288_Rlx60\n",
      "SMCLT-H15_L288_Rlx600\n",
      "SMCLT-H15_L288_Rlx3600\n",
      "SMCLT-KC04_L18_Rlx0\n",
      "SMCLT-KC04_L18_Rlx60\n",
      "SMCLT-KC04_L18_Rlx600\n",
      "SMCLT-KC04_L18_Rlx3600\n",
      "SMCLT-KC04_L36_Rlx0\n",
      "SMCLT-KC04_L36_Rlx60\n",
      "SMCLT-KC04_L36_Rlx600\n",
      "SMCLT-KC04_L36_Rlx3600\n",
      "SMCLT-KC04_L72_Rlx0\n",
      "SMCLT-KC04_L72_Rlx60\n",
      "SMCLT-KC04_L72_Rlx600\n",
      "SMCLT-KC04_L72_Rlx3600\n",
      "SMCLT-KC04_L144_Rlx0\n",
      "SMCLT-KC04_L144_Rlx60\n",
      "SMCLT-KC04_L144_Rlx600\n",
      "SMCLT-KC04_L144_Rlx3600\n",
      "SMCLT-KC04_L288_Rlx0\n",
      "SMCLT-KC04_L288_Rlx60\n",
      "SMCLT-KC04_L288_Rlx600\n",
      "SMCLT-KC04_L288_Rlx3600\n"
     ]
    }
   ],
   "source": [
    "for run in runs:\n",
    "    print(run)\n",
    "    turbmethod, levstr, rlxstr = run.split('_')\n",
    "    nlev = int(levstr[1:])\n",
    "    rlx = float(rlxstr[3:])\n",
    "    cfg['grid']['nlev']  = nlev\n",
    "    cfg['output']['gotm_out']['k1_stop'] = nlev+1\n",
    "    cfg['output']['gotm_out']['k_stop'] = nlev\n",
    "    cfg = set_gotm_turbmethod(cfg, turbmethod)\n",
    "    cfg = set_gotm_relax(cfg, rlx)\n",
    "    cfgs.append(copy.deepcopy(cfg))\n",
    "    labels.append(run)\n",
    "    # dump Stokes drift\n",
    "    us_arr, vs_arr, dusdz_arr, dvsdz_arr, z, zi = stokesdrift[levstr]\n",
    "    run_dir = os.path.join(m.environ['gotmdir_run'], m.name, run)\n",
    "    # print('Writing Stokes drift profile to {:}'.format(run_dir))\n",
    "    os.makedirs(run_dir, exist_ok=True)\n",
    "    dat_dump_pfl(timeSD, z, [us_arr, vs_arr], os.path.join(run_dir, 'us_prof.dat'))\n",
    "    dat_dump_pfl(timeSD, zi, [dusdz_arr, dvsdz_arr], os.path.join(run_dir, 'dusdz_prof.dat'))\n",
    "    "
   ]
  },
  {
   "cell_type": "markdown",
   "metadata": {},
   "source": [
    "## Run the model"
   ]
  },
  {
   "cell_type": "code",
   "execution_count": 15,
   "metadata": {},
   "outputs": [
    {
     "name": "stdout",
     "output_type": "stream",
     "text": [
      "CPU times: user 279 ms, sys: 91.8 ms, total: 370 ms\n",
      "Wall time: 1min 3s\n"
     ]
    }
   ],
   "source": [
    "%%time\n",
    "sims = m.run_batch(configs=cfgs, labels=labels, nproc=16)"
   ]
  },
  {
   "cell_type": "code",
   "execution_count": null,
   "metadata": {},
   "outputs": [],
   "source": []
  }
 ],
 "metadata": {
  "kernelspec": {
   "display_name": "Python 3",
   "language": "python",
   "name": "python3"
  },
  "language_info": {
   "codemirror_mode": {
    "name": "ipython",
    "version": 3
   },
   "file_extension": ".py",
   "mimetype": "text/x-python",
   "name": "python",
   "nbconvert_exporter": "python",
   "pygments_lexer": "ipython3",
   "version": "3.9.15"
  }
 },
 "nbformat": 4,
 "nbformat_minor": 4
}
