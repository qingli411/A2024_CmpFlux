{
 "cells": [
  {
   "cell_type": "code",
   "execution_count": null,
   "id": "020a6c34-a071-45d5-b52f-057999fd36b1",
   "metadata": {
    "tags": []
   },
   "outputs": [],
   "source": [
    "import sys\n",
    "import os\n",
    "import matplotlib.pyplot as plt\n",
    "from matplotlib.dates import DateFormatter\n",
    "import numpy as np\n",
    "import pandas as pd\n",
    "sys.path.append(os.path.join(os.path.pardir, 'gotmtool'))\n",
    "from gotmtool import *"
   ]
  },
  {
   "cell_type": "code",
   "execution_count": null,
   "id": "3be1be1b-4d15-4acf-85f1-60e68678cf4a",
   "metadata": {
    "tags": []
   },
   "outputs": [],
   "source": [
    "casename = 'lsc_ymc22_sbl_bbl_v2'\n",
    "turbmethod = 'SMCLT-H15'\n",
    "# turbmethod = 'SMCLT-KC04'\n",
    "turbmethod = 'KPPLT-LF17'\n",
    "gotm_dir  = os.path.join(os.path.pardir, 'gotm', 'run', '{:s}'.format(casename))\n",
    "gotm_sim  = Simulation(path=os.path.join(gotm_dir, turbmethod))\n",
    "\n",
    "figpath  = os.path.join(os.path.pardir, 'gotm', 'figure', '{:s}-{:s}'.format(casename, turbmethod))\n",
    "os.makedirs(figpath, exist_ok=True)"
   ]
  },
  {
   "cell_type": "code",
   "execution_count": null,
   "id": "cafd6a48-3e67-4c8c-b35f-da45eb584c98",
   "metadata": {
    "tags": []
   },
   "outputs": [],
   "source": [
    "ds = gotm_sim.load_data()\n",
    "ds"
   ]
  },
  {
   "cell_type": "code",
   "execution_count": null,
   "id": "ca01e39b-a07b-4b86-bbe4-e5fffc135514",
   "metadata": {},
   "outputs": [],
   "source": [
    "g = 9.81\n",
    "H = 30\n",
    "u10 = 8\n",
    "N2 = 1.962e-4\n",
    "bstar = N2 * H\n",
    "cd = 1.25e-3\n",
    "rhoa = 1.225\n",
    "rhoo = 1026\n",
    "tau = rhoa/rhoo*cd*u10*u10\n",
    "ustar = np.sqrt(tau)\n",
    "amplitude = 1.0\n",
    "wavelength = 60\n",
    "wavenumber = 2.*np.pi/wavelength\n",
    "frequency = np.sqrt(g*wavenumber*np.tanh(wavenumber*H))\n",
    "us0 = amplitude**2*wavenumber\n",
    "la = np.sqrt(ustar/us0)\n",
    "print(la)"
   ]
  },
  {
   "cell_type": "code",
   "execution_count": null,
   "id": "8d9fae67-4e57-4c89-aace-923b1907d391",
   "metadata": {},
   "outputs": [],
   "source": [
    "tavg1 = dict(starttime='2000-01-04T00:00:00', endtime='2000-01-04T17:00:00', line_kw=dict(color='k', linestyle='--'))\n",
    "tavg2 = dict(starttime='2000-01-10T00:00:00', endtime='2000-01-10T17:00:00', line_kw=dict(color='k', linestyle='-'))\n",
    "# tavg2 = dict(starttime='2000-01-12T00:00:00', endtime='2000-01-12T17:00:00', line_kw=dict(color='k', linestyle='-'))\n",
    "tavgs = dict(T1=tavg1, T2=tavg2)"
   ]
  },
  {
   "cell_type": "code",
   "execution_count": null,
   "id": "5df72f79-06e9-4d30-b488-d00c9d569515",
   "metadata": {},
   "outputs": [],
   "source": [
    "def plot_overview(das, levels, labels, tavgs):\n",
    "\n",
    "    nv = len(das)\n",
    "    fig, axarr = plt.subplots(nv, 2, gridspec_kw={'width_ratios': [1, 5]})\n",
    "    fig.set_size_inches([8, 0.4+2*nv])\n",
    "    rlcolor = {'RdBu_r': 'k', 'viridis': 'w'}\n",
    "    date_form = DateFormatter(\"%d\")\n",
    "    for i, var in enumerate(das.keys()):\n",
    "        ax = np.ravel(axarr)[i*2+1]\n",
    "        cf = das[var].plot(ax=ax, levels=levels[var], cbar_kwargs={'label': labels[var]})\n",
    "        cmap = cf.get_cmap().name\n",
    "        for j, tag in enumerate(tavgs.keys()):\n",
    "            ax.axvline(x=pd.Timestamp(tavgs[tag]['starttime']), linestyle=':', color=rlcolor[cmap])\n",
    "            ax.axvline(x=pd.Timestamp(tavgs[tag]['endtime']), linestyle=':', color=rlcolor[cmap])\n",
    "            ax.text(pd.Timestamp(tavgs[tag]['starttime']), 0, tag, va='bottom', ha='left')\n",
    "        ax.set_title('')\n",
    "        ax.set_xlabel('')\n",
    "        ax.set_ylabel('')\n",
    "        ax.xaxis.set_major_formatter(date_form)\n",
    "        for lb in ax.get_xticklabels(which='major'):\n",
    "            lb.set(rotation=0, horizontalalignment='right')\n",
    "        ax = np.ravel(axarr)[i*2+0]\n",
    "        for j, tag in enumerate(tavgs.keys()):\n",
    "            tslice = slice(tavgs[tag]['starttime'], tavgs[tag]['endtime'])\n",
    "            das[var].sel(time=tslice).mean(dim='time').plot(ax=ax, y=das[var].dims[0], label=tag, **tavgs[tag]['line_kw'])\n",
    "        ax.set_title('')\n",
    "        ax.set_xlabel(labels[var])\n",
    "        ax.set_ylabel('Depth [m]')\n",
    "    axarr[0,0].legend()\n",
    "    axarr[-1,-1].set_xlabel('Time [day]')\n",
    "\n",
    "    plt.tight_layout()\n",
    "    return fig\n",
    "\n",
    "def get_flux(lam, num, gam):\n",
    "    tmp = xr.zeros_like(num)\n",
    "    nt = lam.shape[1]\n",
    "    for i in np.arange(nt):\n",
    "        tmp.data[1:-1,i] = (lam.data[:-1,i]-lam.data[1:,i])/(lam.z.data[:-1]-lam.z.data[1:])\n",
    "    flux = - num * tmp + gam\n",
    "    return flux"
   ]
  },
  {
   "cell_type": "code",
   "execution_count": null,
   "id": "98e8cb6a-54ae-4176-aa1d-a3db4895a52a",
   "metadata": {},
   "outputs": [],
   "source": [
    "das = dict(\n",
    "    T  = ds.data_vars['temp'],\n",
    "    u = (ds.data_vars['u']+ds.data_vars['us'])/ustar,\n",
    "    v = (ds.data_vars['v']+ds.data_vars['vs'])/ustar,\n",
    ")\n",
    "labels = dict(\n",
    "    T = '$T$ [$^\\circ$C]',\n",
    "    u = '$u/u_*$',\n",
    "    v = '$v/u_*$',\n",
    ")\n",
    "levels = dict(\n",
    "    T = np.linspace(17,20,31),\n",
    "    u = np.linspace(-40, 40, 41),\n",
    "    v = np.linspace(-15, 15, 31),\n",
    ")\n",
    "fig = plot_overview(das, levels, labels, tavgs)\n",
    "figname = os.path.join(figpath, 'mean')\n",
    "fig.savefig(figname, dpi = 300, facecolor='w')"
   ]
  },
  {
   "cell_type": "code",
   "execution_count": null,
   "id": "e258fb81-020b-4034-97fe-b103a28bb5c6",
   "metadata": {},
   "outputs": [],
   "source": [
    "das = dict(\n",
    "    wT = get_flux(ds.data_vars['temp'].squeeze(),\n",
    "                  ds.data_vars['nuh'].squeeze(),\n",
    "                  ds.data_vars['gamh'].squeeze())*1e4,\n",
    "    wu = (get_flux(ds.data_vars['u'].squeeze(),\n",
    "                  ds.data_vars['num'].squeeze(),\n",
    "                  ds.data_vars['gamu'].squeeze())\n",
    "          -ds.data_vars['nucl'].squeeze()*ds.data_vars['dusdz'].squeeze())/ustar**2,\n",
    "    wv = (get_flux(ds.data_vars['v'].squeeze(),\n",
    "                  ds.data_vars['num'].squeeze(),\n",
    "                  ds.data_vars['gamv'].squeeze())\n",
    "          -ds.data_vars['nucl'].squeeze()*ds.data_vars['dvsdz'].squeeze())/ustar**2,\n",
    ")\n",
    "labels = dict(\n",
    "    wT = '$10^4\\overline{w^\\prime T^\\prime}$ [$^\\circ$C m/s]',\n",
    "    wu = '$\\overline{w^\\prime u^\\prime}/u_*^2$',\n",
    "    wv = '$\\overline{w^\\prime v^\\prime}/u_*^2$',\n",
    ")\n",
    "levels = dict(\n",
    "    wT = np.linspace(-1.6, 1.6, 41),\n",
    "    wu = np.linspace(-2, 2, 41),\n",
    "    wv = np.linspace(-1.2, 1.2, 41),\n",
    ")\n",
    "fig = plot_overview(das, levels, labels, tavgs)\n",
    "figname = os.path.join(figpath, 'fluxT')\n",
    "fig.savefig(figname, dpi = 300, facecolor='w')"
   ]
  },
  {
   "cell_type": "code",
   "execution_count": null,
   "id": "6b68dde6-372c-4958-821d-d32c79970a85",
   "metadata": {},
   "outputs": [],
   "source": []
  }
 ],
 "metadata": {
  "kernelspec": {
   "display_name": "Python 3",
   "language": "python",
   "name": "python3"
  },
  "language_info": {
   "codemirror_mode": {
    "name": "ipython",
    "version": 3
   },
   "file_extension": ".py",
   "mimetype": "text/x-python",
   "name": "python",
   "nbconvert_exporter": "python",
   "pygments_lexer": "ipython3",
   "version": "3.9.15"
  }
 },
 "nbformat": 4,
 "nbformat_minor": 5
}
