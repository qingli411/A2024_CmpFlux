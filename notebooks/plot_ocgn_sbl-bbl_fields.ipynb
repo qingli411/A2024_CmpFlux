{
 "cells": [
  {
   "cell_type": "code",
   "execution_count": null,
   "id": "2b8c8228-9b72-429e-b8e6-06317b80866d",
   "metadata": {},
   "outputs": [],
   "source": [
    "import sys\n",
    "import os\n",
    "import matplotlib.pyplot as plt\n",
    "import numpy as np\n",
    "import pandas as pd\n",
    "import xarray as xr\n",
    "sys.path.append(os.path.join(os.path.pardir, 'lesview'))\n",
    "from lesview import *\n",
    "from lesview.diags import get_power_spectrum_1d"
   ]
  },
  {
   "cell_type": "code",
   "execution_count": null,
   "id": "3ed14af4-b3e5-4f02-98fa-4e5be2d01029",
   "metadata": {},
   "outputs": [],
   "source": [
    "g = 9.81\n",
    "H = 30\n",
    "u10 = 8\n",
    "N2 = 1.962e-4\n",
    "bstar = N2 * H\n",
    "cd = 1.25e-3\n",
    "rhoa = 1.225\n",
    "rhoo = 1026\n",
    "tau = rhoa/rhoo*cd*u10*u10\n",
    "ustar = np.sqrt(tau)\n",
    "amplitude = 1.0\n",
    "wavelength = 60\n",
    "wavenumber = 2.*np.pi/wavelength\n",
    "frequency = np.sqrt(g*wavenumber*np.tanh(wavenumber*H))\n",
    "us0 = amplitude**2*wavenumber\n",
    "la = np.sqrt(ustar/us0)\n",
    "print(la)"
   ]
  },
  {
   "cell_type": "code",
   "execution_count": null,
   "id": "734ced05-c101-4e03-972d-71ee6b17c81e",
   "metadata": {},
   "outputs": [],
   "source": [
    "casename = 'lsc_ymc22_sbl_bbl_v2_iles9'\n",
    "datapath = os.path.join(os.path.pardir, 'oceananigans', '{:s}'.format(casename))\n",
    "figpath  = 'overview_{:s}'.format(casename)\n",
    "os.makedirs(figpath, exist_ok=True)"
   ]
  },
  {
   "cell_type": "code",
   "execution_count": null,
   "id": "7ee19746-3696-4b71-a128-da2dda368680",
   "metadata": {},
   "outputs": [],
   "source": [
    "filepath = os.path.join(datapath, 'fields.jld2')\n",
    "data_fld = OceananigansDataVolume(filepath=filepath, fieldname=['b','w'])"
   ]
  },
  {
   "cell_type": "code",
   "execution_count": null,
   "id": "49ffd491-bbd6-4b17-bf95-3b071b598d34",
   "metadata": {},
   "outputs": [],
   "source": [
    "ds = data_fld.dataset\n",
    "ds"
   ]
  },
  {
   "cell_type": "code",
   "execution_count": null,
   "id": "44af96f2-4226-4b7a-a045-28f9c054f913",
   "metadata": {},
   "outputs": [],
   "source": [
    "w = ds.data_vars['w'].isel(time=30).sel(zi=-17, method='nearest')\n",
    "w.plot()"
   ]
  },
  {
   "cell_type": "code",
   "execution_count": null,
   "id": "8249960c-7ab5-43b9-ace5-538465e20a0a",
   "metadata": {},
   "outputs": [],
   "source": [
    "k, a = get_power_spectrum_1d(w)\n",
    "plt.plot(k,a)\n",
    "ax = plt.gca()\n",
    "ax.set_xscale('log')\n",
    "ax.set_yscale('log')"
   ]
  },
  {
   "cell_type": "code",
   "execution_count": null,
   "id": "3486b1a8-d178-4e39-bfee-7270f1216884",
   "metadata": {},
   "outputs": [],
   "source": [
    "labels = ['w']\n",
    "L = (ds.x[0]+ds.x[-1]).values\n",
    "nx = ds.x.size\n",
    "fig = plt.figure(figsize=[6,4])\n",
    "for i, vel in enumerate([ w]):\n",
    "    e_x, e_y = get_power_spectrum_1d(vel)\n",
    "    e_x *= 2.*np.pi/L\n",
    "    plt.plot(e_x, e_y, label=labels[i])\n",
    "plt.xscale('log')\n",
    "plt.yscale('log')\n",
    "xx = e_x[1:]\n",
    "yy = xx**(-5/3)*1e3\n",
    "plt.plot(xx, yy, color='gray')\n",
    "plt.legend(loc='lower center')\n",
    "# ymax = np.percentile(e_y, 90)*1e2\n",
    "# ymin = np.percentile(e_y, 10)*1e-1\n",
    "ymax = 10**5\n",
    "ymin = 10**(-1)\n",
    "plt.ylim([ymin, ymax])\n",
    "plt.vlines(2*np.pi/L, ymin=ymin, ymax=ymax, color='lightgray')\n",
    "plt.vlines(2*np.pi/(2*np.sqrt(2)*L/nx), ymin=ymin, ymax=ymax, color='lightgray')\n",
    "plt.xlabel('$k$')\n",
    "plt.ylabel('$S(k)$')\n",
    "# figname = 'PS_{:s}_{:s}'.format(casename, key)\n",
    "# fig.savefig(figname, dpi=300, facecolor='w')"
   ]
  },
  {
   "cell_type": "code",
   "execution_count": null,
   "id": "c3e050ef-9a58-43de-ab3d-a146e9505808",
   "metadata": {},
   "outputs": [],
   "source": [
    "ds.data_vars['b'].isel(time=30).sel(z=-20,method='nearest').plot()"
   ]
  },
  {
   "cell_type": "code",
   "execution_count": null,
   "id": "8addbc75-3300-4a55-bf94-545e87b23d19",
   "metadata": {},
   "outputs": [],
   "source": []
  }
 ],
 "metadata": {
  "kernelspec": {
   "display_name": "GOTM",
   "language": "python",
   "name": "gotm"
  },
  "language_info": {
   "codemirror_mode": {
    "name": "ipython",
    "version": 3
   },
   "file_extension": ".py",
   "mimetype": "text/x-python",
   "name": "python",
   "nbconvert_exporter": "python",
   "pygments_lexer": "ipython3",
   "version": "3.9.16"
  }
 },
 "nbformat": 4,
 "nbformat_minor": 5
}
