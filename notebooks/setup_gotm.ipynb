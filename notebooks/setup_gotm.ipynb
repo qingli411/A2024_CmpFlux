{
 "cells": [
  {
   "cell_type": "markdown",
   "id": "2cf2ab0f-e6d6-436b-aab4-69abf3f7d567",
   "metadata": {},
   "source": [
    "# Setup GOTM\n",
    "\n",
    "Run `gotm_env_init.py` in `gotmtool` to set up the GOTM environment before running this notebook. Type in the full path of `A2024_CmpFlux/data/gotm` when prompted `'Directory of the GOTM input data:'`. And choose `'n'` when prompted `'Download GOTM source code from Github?'` because we are going to use a different version of GOTM."
   ]
  },
  {
   "cell_type": "code",
   "execution_count": null,
   "id": "b8dc7308-1d86-4aba-9ca0-3609f04491c9",
   "metadata": {},
   "outputs": [],
   "source": [
    "import sys\n",
    "import os\n",
    "import subprocess as sp\n",
    "sys.path.append(os.path.join(os.path.pardir, 'gotmtool'))\n",
    "from gotmtool import *"
   ]
  },
  {
   "cell_type": "markdown",
   "id": "62d2be2f-844b-4924-aa5c-8a2cb586789e",
   "metadata": {},
   "source": [
    "### Create a model and get the environment variables for GOTM"
   ]
  },
  {
   "cell_type": "code",
   "execution_count": null,
   "id": "32aa65c0-299c-4087-845c-6e161c3422a5",
   "metadata": {},
   "outputs": [],
   "source": [
    "m = Model(name='CMPFLUX', environ=os.path.join(os.path.pardir, 'gotmtool', '.gotm_env.yaml'))"
   ]
  },
  {
   "cell_type": "code",
   "execution_count": null,
   "id": "6f366b66-104b-4e8f-b62a-6125d1412dd8",
   "metadata": {},
   "outputs": [],
   "source": [
    "for key in m.environ:\n",
    "    print('{:>15s}: {}'.format(key, m.environ[key]) )"
   ]
  },
  {
   "cell_type": "markdown",
   "id": "526f8bee-4a5f-4ede-a9d4-ac3d83891951",
   "metadata": {},
   "source": [
    "### Check out the GOTM source code"
   ]
  },
  {
   "cell_type": "code",
   "execution_count": null,
   "id": "ccbd4fec-11db-4a2e-8cac-aa4ec215fde5",
   "metadata": {},
   "outputs": [],
   "source": [
    "gotm_github = 'https://github.com/qingli411/code.git'\n",
    "gotm_src = m.environ['gotmdir_code']\n",
    "cmd = ['git', 'clone', gotm_github, gotm_src]\n",
    "sp.run(cmd, check=True, capture_output=True)"
   ]
  },
  {
   "cell_type": "markdown",
   "id": "aa67399e-78f1-4413-b74d-7eee550492f3",
   "metadata": {},
   "source": [
    "### Switch to a branch with the Harcourt (2015) model"
   ]
  },
  {
   "cell_type": "code",
   "execution_count": null,
   "id": "cdddd372-36bc-4bbf-98e3-baba22009ed6",
   "metadata": {},
   "outputs": [],
   "source": [
    "bname = 'sbl-bbl'\n",
    "cmd = ['git', 'checkout', '-b', bname, 'origin/'+bname]\n",
    "sp.run(cmd, check=True, capture_output=True, cwd=gotm_src)"
   ]
  },
  {
   "cell_type": "markdown",
   "id": "5a2e7e0e-40c7-46ed-9ee6-4df97667ae58",
   "metadata": {},
   "source": [
    "### Check out all submodules"
   ]
  },
  {
   "cell_type": "code",
   "execution_count": null,
   "id": "dd6ac26c-33b5-4c30-9175-f6af082cad49",
   "metadata": {},
   "outputs": [],
   "source": [
    "cmd = ['git', 'submodule', 'update', '--init', '--recursive']\n",
    "sp.run(cmd, check=True, capture_output=True, cwd=gotm_src)"
   ]
  }
 ],
 "metadata": {
  "kernelspec": {
   "display_name": "GOTM",
   "language": "python",
   "name": "gotm"
  },
  "language_info": {
   "codemirror_mode": {
    "name": "ipython",
    "version": 3
   },
   "file_extension": ".py",
   "mimetype": "text/x-python",
   "name": "python",
   "nbconvert_exporter": "python",
   "pygments_lexer": "ipython3",
   "version": "3.9.16"
  }
 },
 "nbformat": 4,
 "nbformat_minor": 5
}
