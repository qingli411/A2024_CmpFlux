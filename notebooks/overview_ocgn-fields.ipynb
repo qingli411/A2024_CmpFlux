{
 "cells": [
  {
   "cell_type": "code",
   "execution_count": null,
   "id": "020a6c34-a071-45d5-b52f-057999fd36b1",
   "metadata": {
    "tags": []
   },
   "outputs": [],
   "source": [
    "import sys\n",
    "import os\n",
    "import matplotlib.pyplot as plt\n",
    "import matplotlib.gridspec as gridspec\n",
    "from matplotlib.dates import DateFormatter\n",
    "import numpy as np\n",
    "sys.path.append(os.path.join(os.path.pardir, 'lesview'))\n",
    "from lesview import *\n",
    "from lesview.plots import plot_box_field"
   ]
  },
  {
   "cell_type": "code",
   "execution_count": null,
   "id": "3be1be1b-4d15-4acf-85f1-60e68678cf4a",
   "metadata": {
    "tags": []
   },
   "outputs": [],
   "source": [
    "casename = 'lsc_ymc22_sbl_bbl_v2'\n",
    "datapath = os.path.join(os.path.pardir, 'oceananigans', '{:s}'.format(casename))"
   ]
  },
  {
   "cell_type": "code",
   "execution_count": null,
   "id": "0b4b373c-b1d5-4a35-9f0b-22e541ad0acf",
   "metadata": {
    "tags": []
   },
   "outputs": [],
   "source": [
    "filepath = os.path.join(datapath, 'fields.jld2')\n",
    "data_fld = OceananigansDataVolume(filepath=filepath, fieldname=['b','w'])"
   ]
  },
  {
   "cell_type": "code",
   "execution_count": null,
   "id": "b32e528c-2a7a-4256-b5b8-02cee502a96d",
   "metadata": {
    "tags": []
   },
   "outputs": [],
   "source": [
    "ds = data_fld.dataset\n",
    "ds"
   ]
  },
  {
   "cell_type": "code",
   "execution_count": null,
   "id": "abd1d3bb-5f03-4d41-b2ca-d13af877c43f",
   "metadata": {
    "tags": []
   },
   "outputs": [],
   "source": [
    "# g = 9.81\n",
    "# N2 = 1.962e-4\n",
    "# T0 = 20.0\n",
    "# alphaT = 2.0e-4\n",
    "# dTdz = N2/alphaT/g\n",
    "# H = 30\n",
    "\n",
    "# var = 'b'\n",
    "# levels = np.linspace(0,6e-3,41)\n",
    "# levels = np.linspace(17,20,31)\n",
    "# da = ds.data_vars[var]/alphaT/g + (T0 - dTdz*H)\n",
    "# da.attrs['long_name'] = '$T$'\n",
    "# da.attrs['units'] = '$^\\circ$C'\n",
    "# # levels = None\n",
    "\n",
    "# dap = dsp.data_vars['b']/alphaT/g + (T0 - dTdz*H)\n",
    "# dap.attrs['long_name'] = '$T$'\n",
    "# dap.attrs['units'] = '$^\\circ$C'"
   ]
  },
  {
   "cell_type": "code",
   "execution_count": null,
   "id": "6dffe4b7-e9e2-4c8d-82c6-32d833b14a62",
   "metadata": {},
   "outputs": [],
   "source": [
    "# date_form = DateFormatter(\"%d\")\n",
    "\n",
    "# itime = 10\n",
    "# fig = plot_box_field(da, view='both', itime=itime, cmap='viridis', levels=levels)\n",
    "# fig.set_size_inches(8,8)\n",
    "# ax = plt.gca()\n",
    "# gs = gridspec.GridSpec(5, 8)\n",
    "# ax.set_subplotspec(gs[0:4, 0:-1])\n",
    "# ax2 = fig.add_subplot(gs[4, 1:-1])\n",
    "# dap.plot(ax=ax2, levels=levels)\n",
    "# ax2.xaxis.set_major_formatter(date_form)\n",
    "# for lb in ax2.get_xticklabels(which='major'):\n",
    "#     lb.set(rotation=0, horizontalalignment='right')\n",
    "# ax2.set_xlabel('Time [day]')\n",
    "# ax2.axvline(x=da.time[itime].data, linestyle=':', color='w')\n",
    "# plt.tight_layout()\n",
    "# fig.savefig('test', dpi = 300, facecolor='w')"
   ]
  },
  {
   "cell_type": "code",
   "execution_count": null,
   "id": "a40a4b1a-c086-475b-8492-ca3878dd17b7",
   "metadata": {
    "tags": []
   },
   "outputs": [],
   "source": [
    "# var = 'Cs'\n",
    "# levels = np.linspace(0,0.14,281)\n",
    "# # levels = None\n",
    "# fig = plot_box_field(ds.data_vars[var], view='both', itime=-1, cmap='prism_r', levels=levels)"
   ]
  },
  {
   "cell_type": "code",
   "execution_count": null,
   "id": "703387a0-7453-4e54-b309-f704a7181c64",
   "metadata": {
    "tags": []
   },
   "outputs": [],
   "source": [
    "# var = 'Cb'\n",
    "# levels = np.linspace(0,0.14,281)\n",
    "# # levels = None\n",
    "# fig = plot_box_field(ds.data_vars[var], view='both', itime=-1, cmap='prism_r', levels=levels)"
   ]
  },
  {
   "cell_type": "code",
   "execution_count": null,
   "id": "65008c54-6c72-4cad-984c-241cf9df108f",
   "metadata": {
    "tags": []
   },
   "outputs": [],
   "source": [
    "var = 'w'\n",
    "levels = np.linspace(-0.04, 0.04, 41)\n",
    "fig = plot_box_field(ds.data_vars[var], view='both', itime=-2, cmap='RdBu_r', levels=levels)"
   ]
  },
  {
   "cell_type": "code",
   "execution_count": null,
   "id": "e0150401-0584-426c-b6af-2e4d09844349",
   "metadata": {
    "tags": []
   },
   "outputs": [],
   "source": [
    "# var = 'u'\n",
    "# levels = np.linspace(-0.4, 0.4, 41)\n",
    "# fig = plot_box_field(ds.data_vars[var], view='both', itime=-1, cmap='RdBu_r', levels=levels)"
   ]
  },
  {
   "cell_type": "code",
   "execution_count": null,
   "id": "2d1df531-d5f7-4919-9c7e-5df95a2e5f35",
   "metadata": {
    "tags": []
   },
   "outputs": [],
   "source": [
    "# var = 'v'\n",
    "# levels = np.linspace(-0.2, 0.2, 41)\n",
    "# fig = plot_box_field(ds.data_vars[var], view='both', itime=-1, cmap='RdBu_r', levels=levels)"
   ]
  },
  {
   "cell_type": "code",
   "execution_count": null,
   "id": "9def6d6c-c235-4c7b-8a80-de6586244930",
   "metadata": {},
   "outputs": [],
   "source": [
    "# var = 'T'\n",
    "# view = 'both'\n",
    "# levels = np.linspace(17,20,61)\n",
    "# mp4dir = './{:s}-{:s}'.format(casename, view)\n",
    "# os.makedirs(mp4dir, exist_ok=True)\n",
    "\n",
    "# g = 9.81\n",
    "# N2 = 1.962e-4\n",
    "# T0 = 20.0\n",
    "# alphaT = 2.0e-4\n",
    "# dTdz = N2/alphaT/g\n",
    "# H = 30\n",
    "# da = ds.data_vars['b']/alphaT/g + (T0 - dTdz*H)\n",
    "# da.attrs['long_name'] = '$T$'\n",
    "# da.attrs['units'] = '$^\\circ$C'\n",
    "\n",
    "# for itime in np.arange(da.time.size):\n",
    "#     fig = plot_box_field(da, view=view, itime=itime, cmap='viridis', levels=levels)\n",
    "#     figname = os.path.join(mp4dir, '{:s}_{:06d}'.format(var, itime))\n",
    "#     plt.tight_layout()\n",
    "#     fig.savefig(figname, dpi = 300, facecolor='w')\n",
    "#     fig.clear()\n",
    "#     plt.close(fig)"
   ]
  },
  {
   "cell_type": "code",
   "execution_count": null,
   "id": "4a11c02f-4b7b-42ae-8f35-50f65f6876dc",
   "metadata": {},
   "outputs": [],
   "source": [
    "var = 'T'\n",
    "view = 'both'\n",
    "date_form = DateFormatter(\"%d\")\n",
    "levels = np.linspace(17,20,61)\n",
    "mp4dir = './{:s}-{:s}'.format(casename, view)\n",
    "os.makedirs(mp4dir, exist_ok=True)\n",
    "\n",
    "g = 9.81\n",
    "N2 = 1.962e-4\n",
    "T0 = 20.0\n",
    "alphaT = 2.0e-4\n",
    "dTdz = N2/alphaT/g\n",
    "H = 30\n",
    "da = ds.data_vars['b']/alphaT/g + (T0 - dTdz*H)\n",
    "da.attrs['long_name'] = '$T$'\n",
    "da.attrs['units'] = '$^\\circ$C'\n",
    "\n",
    "dap = dsp.data_vars['b']/alphaT/g + (T0 - dTdz*H)\n",
    "dap.attrs['long_name'] = '$T$'\n",
    "dap.attrs['units'] = '$^\\circ$C'\n",
    "\n",
    "for itime in np.arange(da.time.size):\n",
    "    fig = plot_box_field(da, view=view, itime=itime, cmap='viridis', levels=levels)\n",
    "    fig.set_size_inches(8,8)\n",
    "    ax = plt.gca()\n",
    "    gs = gridspec.GridSpec(5, 8)\n",
    "    ax.set_subplotspec(gs[0:4, 0:-1])\n",
    "    ax2 = fig.add_subplot(gs[4, 1:-1])\n",
    "    dap.plot(ax=ax2, levels=levels)\n",
    "    ax2.xaxis.set_major_formatter(date_form)\n",
    "    for lb in ax2.get_xticklabels(which='major'):\n",
    "        lb.set(rotation=0, horizontalalignment='right')\n",
    "    ax2.set_xlabel('Time [day]')\n",
    "    ax2.axvline(x=da.time[itime].data, linestyle=':', color='w')\n",
    "    figname = os.path.join(mp4dir, '{:s}_v2_{:06d}'.format(var, itime))\n",
    "    plt.tight_layout()\n",
    "    fig.savefig(figname, dpi = 300, facecolor='w')\n",
    "    fig.clear()\n",
    "    plt.close(fig)"
   ]
  },
  {
   "cell_type": "code",
   "execution_count": null,
   "id": "23e1ad0c-ad55-481c-9f98-73ba97b1f5d6",
   "metadata": {},
   "outputs": [],
   "source": [
    "# var = 'w'\n",
    "# view = 'both'\n",
    "# levels = np.linspace(-0.04, 0.04, 41)\n",
    "# mp4dir = './{:s}-{:s}'.format(casename, view)\n",
    "# os.makedirs(mp4dir, exist_ok=True)\n",
    "\n",
    "# for itime in np.arange(ds.time.size):\n",
    "#     fig = plot_box_field(ds.data_vars[var], view=view, itime=itime, cmap='RdBu_r', levels=levels)\n",
    "#     figname = os.path.join(mp4dir, '{:s}_{:06d}'.format(var, itime))\n",
    "#     plt.tight_layout()\n",
    "#     fig.savefig(figname, dpi = 300, facecolor='w')\n",
    "#     fig.clear()\n",
    "#     plt.close(fig)"
   ]
  }
 ],
 "metadata": {
  "kernelspec": {
   "display_name": "Python 3",
   "language": "python",
   "name": "python3"
  },
  "language_info": {
   "codemirror_mode": {
    "name": "ipython",
    "version": 3
   },
   "file_extension": ".py",
   "mimetype": "text/x-python",
   "name": "python",
   "nbconvert_exporter": "python",
   "pygments_lexer": "ipython3",
   "version": "3.9.15"
  }
 },
 "nbformat": 4,
 "nbformat_minor": 5
}
